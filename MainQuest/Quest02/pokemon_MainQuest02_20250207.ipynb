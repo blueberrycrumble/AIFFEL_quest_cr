{
  "nbformat": 4,
  "nbformat_minor": 0,
  "metadata": {
    "colab": {
      "private_outputs": true,
      "provenance": [],
      "toc_visible": true,
      "gpuType": "T4",
      "authorship_tag": "ABX9TyNmhKSqUaXqbgoMZbaOonNl",
      "include_colab_link": true
    },
    "kernelspec": {
      "name": "python3",
      "display_name": "Python 3"
    },
    "language_info": {
      "name": "python"
    }
  },
  "cells": [
    {
      "cell_type": "markdown",
      "metadata": {
        "id": "view-in-github",
        "colab_type": "text"
      },
      "source": [
        "<a href=\"https://colab.research.google.com/github/blueberrycrumble/AIFFEL_quest_cr/blob/master/MainQuest/Quest02/pokemon_MainQuest02_20250207.ipynb\" target=\"_parent\"><img src=\"https://colab.research.google.com/assets/colab-badge.svg\" alt=\"Open In Colab\"/></a>"
      ]
    },
    {
      "cell_type": "markdown",
      "source": [
        "메인퀘스트 02. 전설의 포켓몬 찾기  \n",
        "데이터셋: https://www.kaggle.com/datasets/abcsds/pokemon  \n",
        "\n",
        "[] Flow chart  \n",
        "[x] Data preprocessing  \n",
        "[x] Baseline Model Training  \n",
        "[] Comparison and Analysis  \n",
        "[x] Report  "
      ],
      "metadata": {
        "id": "FK0rSntQFHvV"
      }
    },
    {
      "cell_type": "markdown",
      "source": [
        "# STEP 0. Planning"
      ],
      "metadata": {
        "id": "auxLtDUJFJkR"
      }
    },
    {
      "cell_type": "markdown",
      "source": [
        "### Flow Chart"
      ],
      "metadata": {
        "id": "dWAkNlykGg5z"
      }
    },
    {
      "cell_type": "markdown",
      "source": [
        "### 진행 단계\n",
        "\n",
        "1. EDA 탐색적 데이터 분석  \n",
        "    - 분석 목적 파악\n",
        "    - 목적에 부합하는 기준치 설정\n",
        "    - 특성 종류와 특징 파악\n",
        "    - 데이터 분포도 파악\n",
        "    - 결측치, 이상치 파악\n",
        "2. Data preprocessing  \n",
        "    - 결측치, 이상치 처리\n",
        "    - 범주형 데이터 처리\n",
        "    - feature engineering\n",
        "    - 데이터 분포 변환 (밸런스 맞추기)\n",
        "3. Baseline Model Training  \n",
        "    - 모델링\n",
        "    - 훈련\n",
        "4. Comparison and Analysis  \n",
        "    - 검증, 테스트\n",
        "    - 하이퍼 파라미터 튜닝, 피쳐 엔지니어링\n",
        "5. Report  \n",
        "    - 프로젝트 평가\n",
        "    - 회고\n",
        "    - 주석 및 의견\n",
        "    - 회고\n",
        "    - 레퍼런스"
      ],
      "metadata": {
        "id": "o4NdiktVE2oi"
      }
    },
    {
      "cell_type": "markdown",
      "source": [
        "# STEP 1. EDA"
      ],
      "metadata": {
        "id": "gEZunqtwFXP9"
      }
    },
    {
      "cell_type": "markdown",
      "source": [
        "### 변수 리스트와 라이브러리"
      ],
      "metadata": {
        "id": "LCgA_P6O1DF_"
      }
    },
    {
      "cell_type": "code",
      "source": [
        "'''\n",
        "Variable Names\n",
        "\n",
        "pokemon --copied datasets\n",
        "legendary --\n",
        "ordinary --\n",
        "types --\n",
        "\n",
        "\n",
        "'''"
      ],
      "metadata": {
        "id": "Kysc1cjqRiio"
      },
      "execution_count": null,
      "outputs": []
    },
    {
      "cell_type": "code",
      "source": [
        "# Download the datasets from Kaggle\n",
        "# !pip install kagglehub --upgrade\n",
        "import kagglehub\n",
        "path = kagglehub.dataset_download(\"abcsds/pokemon\")\n",
        "print(\"Path to dataset files:\",path)"
      ],
      "metadata": {
        "collapsed": true,
        "id": "gxs6YKd2MqNM"
      },
      "execution_count": null,
      "outputs": []
    },
    {
      "cell_type": "code",
      "source": [
        "import numpy as np\n",
        "import pandas as pd\n",
        "import seaborn as sns\n",
        "import re\n",
        "from sklearn.model_selection import train_test_split\n",
        "from sklearn.tree import DecisionTreeClassifier\n",
        "from sklearn.metrics import confusion_matrix\n",
        "from sklearn.metrics import classification_report\n",
        "\n",
        "# step4. 다른 분류기와 지표 사용\n",
        "from sklearn.preprocessing import StandardScaler\n",
        "from sklearn.metrics import accuracy_score\n",
        "from sklearn.linear_model import LogisticRegression\n",
        "from sklearn.svm import SVC\n",
        "from sklearn.ensemble import RandomForestClassifier, GradientBoostingClassifier\n",
        "import xgboost as xgb\n",
        "\n",
        "\n",
        "# OrderedDict, Counter 등의 모듈을 제공하는 파이썬의 패키지\n",
        "from collections import Counter\n",
        "\n",
        "# seaborn은 독립적으로 사용할 수 있으나, 그래프 조정이나 세부 설정을 위해 matplotlib 함께 사용\n",
        "# 예) plt.show()를 명시적으로 호출하거나, plt.figure()를 함께 사용할 때\n",
        "import matplotlib.pyplot as plt\n",
        "\n",
        "# 주피터 노트북 환경에서 그래프를 바로 출력하도록 설정\n",
        "%matplotlib inline\n",
        "# 주피터 노트북 환경에서 그래프를 고해상도로 출력\n",
        "%config inlineBackend.figure_format = 'retina'"
      ],
      "metadata": {
        "id": "rz5HDFWxJXgT"
      },
      "execution_count": null,
      "outputs": []
    },
    {
      "cell_type": "markdown",
      "source": [
        "### 데이터셋의 크기와 구성\n",
        "\n"
      ],
      "metadata": {
        "id": "KRFbGuL2JaVG"
      }
    },
    {
      "cell_type": "code",
      "source": [
        "# load dataset\n",
        "original_data = pd.read_csv(path+'/Pokemon.csv')\n",
        "# copy dataset\n",
        "pokemon = original_data.copy()\n",
        "\n",
        "print(pokemon.shape)\n",
        "pokemon.head(10)"
      ],
      "metadata": {
        "collapsed": true,
        "id": "kuKQQNZAKxaH"
      },
      "execution_count": null,
      "outputs": []
    },
    {
      "cell_type": "markdown",
      "source": [
        "---\n",
        "데이터셋의 크기\n",
        "- 포켓몬 샘플 800개\n",
        "- 각 포켓몬의 특성 13종\n",
        "---  \n",
        "[노드 1-5]  \n",
        "각 특성의 정보는 다음과 같다.\n",
        "\n",
        "    - #: ID for each pokemon (성별이 다르지만 같은 포켓몬인 경우 등은 같은 #값을 가진다.)\n",
        "    - Name: Name of each pokemon  \n",
        "    - Type 1: Each pokemon has a type, this determines weakness/resistance to attacks  \n",
        "    - Type 2: Some pokemon are dual type and have 2  \n",
        "    - Total: sum of all stats that come after this, a general guide to how strong a pokemon is  \n",
        "    - HP: hit points, or health, defines how much damage a pokemon can withstand before fainting  \n",
        "    - Attack: the base modifier for normal attacks (eg. Scratch, Punch)  \n",
        "    - Defense: the base damage resistance against normal attacks  \n",
        "    - SP Atk: special attack, the base modifier for special attacks (e.g. fire blast, bubble beam)  \n",
        "    - SP Def: the base damage resistance against special attacks  \n",
        "    - Speed: determines which pokemon attacks first each round   \n",
        "\n",
        "---\n",
        "타겟 설정\n",
        "- Legendary 여부를 True/False 로 판별한다．\n",
        "- True 값은 `lengendary` 변수에 저장\n",
        "- False 값은 `ordinary` 변수에 저장\n",
        "---\n",
        "\n"
      ],
      "metadata": {
        "id": "ekKyUJ8xPCYY"
      }
    },
    {
      "cell_type": "code",
      "source": [
        "# New dataframe by filtered samples\n",
        "# Reset indexing numbers assigned to filtered samples\n",
        "legendary = pokemon[pokemon['Legendary']==True].reset_index(drop=True)\n",
        "print(legendary.shape)\n",
        "legendary.head(10)"
      ],
      "metadata": {
        "id": "k2ifBAYwRQoS"
      },
      "execution_count": null,
      "outputs": []
    },
    {
      "cell_type": "code",
      "source": [
        "ordinary = pokemon[pokemon['Legendary']==False].reset_index(drop=True)\n",
        "print(ordinary.shape)\n",
        "ordinary.head(10)"
      ],
      "metadata": {
        "id": "st7LmgdtTfxF"
      },
      "execution_count": null,
      "outputs": []
    },
    {
      "cell_type": "markdown",
      "source": [
        "---\n",
        "총 데이터 샘플 수 800개 중에서   \n",
        "- Legendary 포켓몬의 수: 65  \n",
        "- Ordinary 포멧몬의 수: 735\n",
        "\n",
        "==> 일반 포켓몬과 전설의 포켓몬의 샘플 수가 크게 차이나므로 데이터가 불균형함을 알 수 있다.   \n",
        "==> 분포도를 확인해본다.\n",
        "\n",
        "---\n",
        "\n"
      ],
      "metadata": {
        "id": "_Y74xa1eTvVA"
      }
    },
    {
      "cell_type": "markdown",
      "source": [
        "### 결측치 확인"
      ],
      "metadata": {
        "id": "JIDE1iLVUM3a"
      }
    },
    {
      "cell_type": "code",
      "source": [
        "pokemon.isnull().sum()"
      ],
      "metadata": {
        "id": "5dI6l71xUZIo"
      },
      "execution_count": null,
      "outputs": []
    },
    {
      "cell_type": "markdown",
      "source": [
        "---\n",
        "Type 2 칼럼에만 386개의 결측치가 있는 것이 확인되므로, 결측치 처리를 다루기 전에 각 특성의 정보를 파악하는 것이 필요하다."
      ],
      "metadata": {
        "id": "0xSmzcTXV227"
      }
    },
    {
      "cell_type": "markdown",
      "source": [
        "### 특성 파악"
      ],
      "metadata": {
        "id": "9QFjgaqUYqcK"
      }
    },
    {
      "cell_type": "code",
      "source": [
        "print(len(pokemon.columns))\n",
        "pokemon.columns"
      ],
      "metadata": {
        "id": "7uM5tfV4WZSA"
      },
      "execution_count": null,
      "outputs": []
    },
    {
      "cell_type": "code",
      "source": [
        "len(set(pokemon[\"#\"]))"
      ],
      "metadata": {
        "id": "dWukbV1xXy11"
      },
      "execution_count": null,
      "outputs": []
    },
    {
      "cell_type": "markdown",
      "source": [
        "---\n",
        "포켓몬 번호가 전체 샘플수 800개와 일치하지 않으므로 unique한 고유 값이라 볼 수 없다. 따라서 새로운 인덱스 설정이 필요하다."
      ],
      "metadata": {
        "id": "V7wZ70iGYEsS"
      }
    },
    {
      "cell_type": "code",
      "source": [
        "pokemon[pokemon['#']==15]\n",
        "# 진화버전의 포켓몬들이 같은 번호를 공유하고 있음을 확인할 수 있다."
      ],
      "metadata": {
        "id": "5Ae38uliYWB7"
      },
      "execution_count": null,
      "outputs": []
    },
    {
      "cell_type": "code",
      "source": [
        "# Check the length of unique names without duplicates\n",
        "len(set(pokemon['Name']))"
      ],
      "metadata": {
        "id": "tRAMeG67Ytw4"
      },
      "execution_count": null,
      "outputs": []
    },
    {
      "cell_type": "markdown",
      "source": [
        "---\n",
        "Name 컬럼의 값들은 unique 함을 확인했다."
      ],
      "metadata": {
        "id": "1xHZBztxZXUj"
      }
    },
    {
      "cell_type": "code",
      "source": [
        "# read the index 6 and 10 rows\n",
        "pokemon.loc[[6,10]]"
      ],
      "metadata": {
        "id": "A8VPswAOZig3"
      },
      "execution_count": null,
      "outputs": []
    },
    {
      "cell_type": "code",
      "source": [
        "# check the length of each columns (unique value)\n",
        "# list로 한 번 더 감싸주는 이유는 인덱싱과 정렬등이 필요하기 때문. set() 는 순서가 없는 집합 자료형.\n",
        "len(list(set(pokemon[\"Type 1\"]))), len(list(set(pokemon[\"Type 2\"])))"
      ],
      "metadata": {
        "id": "p53RAX1Gancz"
      },
      "execution_count": null,
      "outputs": []
    },
    {
      "cell_type": "markdown",
      "source": [
        "---\n",
        "두 컬럼의 길이가 다르기 때문에 차집합으로 한 컬럼만 가지고 있는 추가 정보가 무엇인지 확인한다."
      ],
      "metadata": {
        "id": "A22K93HebK1L"
      }
    },
    {
      "cell_type": "code",
      "source": [
        "set(pokemon['Type 2']) - set(pokemon['Type 1'])"
      ],
      "metadata": {
        "id": "lyVC2ztebbrT"
      },
      "execution_count": null,
      "outputs": []
    },
    {
      "cell_type": "markdown",
      "source": [
        "---\n",
        "Nan 값만 제외하면 Type1 과 Type2가 동일한 데이터를 공유하므로 데이터를 합친다. Type 2의 NaN 값을 가지는 샘플을 추출한다.  "
      ],
      "metadata": {
        "id": "cVsz_5T9byBL"
      }
    },
    {
      "cell_type": "code",
      "source": [
        "types = list(set(pokemon['Type 1']))\n",
        "print(len(types))\n",
        "print(types)"
      ],
      "metadata": {
        "id": "gC2pXURmbxhs"
      },
      "execution_count": null,
      "outputs": []
    },
    {
      "cell_type": "code",
      "source": [
        "# Number of single type pokemons\n",
        "pokemon['Type 2'].isna().sum()"
      ],
      "metadata": {
        "id": "FSEEJ5SFcomK"
      },
      "execution_count": null,
      "outputs": []
    },
    {
      "cell_type": "markdown",
      "source": [
        "### 데이터 분포도\n",
        "\n",
        "일반 포켓몬과 전설의 포켓몬의 비율이 불균형하기 때문에, 시각화해서 포켓몬 그룹별 Type 속성의 분포를 확인해본다."
      ],
      "metadata": {
        "id": "tGiDOgxwdBaP"
      }
    },
    {
      "cell_type": "markdown",
      "source": [
        "#### Type 1 바 그래프"
      ],
      "metadata": {
        "id": "KIpy_kFG11Fl"
      }
    },
    {
      "cell_type": "code",
      "source": [
        "plt.figure(figsize=(14,7))\n",
        "\n",
        "plt.subplot(211) # 2x1 그래프의 1번 위치에 생성\n",
        "# countplot() x축 원소의 개수를 세어서 막대그래프로 표시\n",
        "sns.countplot(data=ordinary, x=\"Type 1\", order=types).set_xlabel('') # .set_xlabel('') x축 라벨 제거\n",
        "plt.title(\"[Ordinary Pokemons -Type1]\")\n",
        "\n",
        "plt.subplot(212) # 2x1 그래프의 2번 위치에 생성\n",
        "sns.countplot(data=legendary, x=\"Type 1\", order=types).set_xlabel('')\n",
        "plt.title(\"[Legendary Pokemons -Type1]\")\n",
        "\n",
        "plt.show()"
      ],
      "metadata": {
        "id": "Oph8LTLfdEDW"
      },
      "execution_count": null,
      "outputs": []
    },
    {
      "cell_type": "code",
      "source": [
        "pd.pivot_table(pokemon, index='Type 1', values='Legendary').sort_values(by=[\"Legendary\"], ascending=False)"
      ],
      "metadata": {
        "id": "2HdIaixhmICQ"
      },
      "execution_count": null,
      "outputs": []
    },
    {
      "cell_type": "markdown",
      "source": [
        "---\n",
        "Flying 과 Dragon 속성을 가진 전설의 포켓몬의 비율이 높은 것으로 보아, 비행형 포켓몬이 전설의 포켓몬일 확률이 상대적으로 높은 것을 알 수 있다."
      ],
      "metadata": {
        "id": "m7waZULImnNp"
      }
    },
    {
      "cell_type": "markdown",
      "source": [
        "#### Type 2 바 그래프"
      ],
      "metadata": {
        "id": "Lh-S5ark1tep"
      }
    },
    {
      "cell_type": "code",
      "source": [
        "# Type 2의 분포 확인\n",
        "plt.figure(figsize=(12, 10))\n",
        "\n",
        "plt.subplot(211)\n",
        "sns.countplot(data=ordinary, x=\"Type 2\", order=types).set_xlabel('')\n",
        "plt.title(\"[Ordinary Pokemons -Type2]\")\n",
        "\n",
        "plt.subplot(212)\n",
        "sns.countplot(data=legendary, x=\"Type 2\", order=types).set_xlabel('')\n",
        "plt.title(\"[Legendary Pokemons -Type2]\")\n",
        "\n",
        "plt.show()"
      ],
      "metadata": {
        "id": "1YR12ynTnclF"
      },
      "execution_count": null,
      "outputs": []
    },
    {
      "cell_type": "code",
      "source": [
        "pd.pivot_table(pokemon,index='Type 2', values='Legendary').sort_values(by=[\"Legendary\"], ascending=False)"
      ],
      "metadata": {
        "id": "-kI1BkqQouoP"
      },
      "execution_count": null,
      "outputs": []
    },
    {
      "cell_type": "markdown",
      "source": [
        "---\n",
        "Type 2의 경우, 불 속성의 legendary 포켓몬의 비율이 25%로 가장 높다."
      ],
      "metadata": {
        "id": "frChRXqNpEtT"
      }
    },
    {
      "cell_type": "markdown",
      "source": [
        "#### 세부 스탯 분포도\n"
      ],
      "metadata": {
        "id": "Tv-98nZf1ksg"
      }
    },
    {
      "cell_type": "code",
      "source": [
        "fig, ax = plt.subplots()\n",
        "fig.set_size_inches(12,6)\n",
        "\n",
        "# Total(각 몬스터의 스탯점수 총합)과 legendary 포켓몬의 관계를 파악하기 위해 분포도를 그려본다.\n",
        "sns.scatterplot(data=pokemon, x='Type 1', y='Total', hue='Legendary') # Legendary 의 색상 구분\n",
        "plt.show()"
      ],
      "metadata": {
        "id": "lNdwujr3tA9j"
      },
      "execution_count": null,
      "outputs": []
    },
    {
      "cell_type": "markdown",
      "source": [
        "---\n",
        "Legendary 포켓몬이 대체로 Total(=세부 스탯 점수의 총합) 값이 높은 것을 확인할 수 있다."
      ],
      "metadata": {
        "id": "ojCnr99U0ccZ"
      }
    },
    {
      "cell_type": "code",
      "source": [
        "figure, ((ax1, ax2), (ax3, ax4), (ax5, ax6)) = plt.subplots(nrows=3, ncols=2)\n",
        "figure.set_size_inches(15,18)\n",
        "\n",
        "# \"HP\" 스탯의 scatter plot\n",
        "sns.scatterplot(data=pokemon, y=\"Total\", x=\"HP\", hue=\"Legendary\", ax=ax1)\n",
        "\n",
        "# \"Attack\" 스탯의 scatter plot\n",
        "sns.scatterplot(data=pokemon, y='Total', x='Attack', hue='Legendary', ax=ax2)\n",
        "\n",
        "# \"Defense\" 스탯의 scatter plot\n",
        "sns.scatterplot(data=pokemon, y='Total', x='Defense', hue='Legendary', ax=ax3)\n",
        "\n",
        "# \"Sp. Atk\" 스탯의 scatter plot\n",
        "sns.scatterplot(data=pokemon, y='Total', x='Sp. Atk', hue='Legendary', ax=ax4)\n",
        "\n",
        "# \"Sp. Def\" 스탯의 scatter plot\n",
        "sns.scatterplot(data=pokemon, y='Total', x='Sp. Def', hue='Legendary', ax=ax5)\n",
        "\n",
        "# \"Speed\" 스탯의 scatter plot\n",
        "sns.scatterplot(data=pokemon, y='Total', x='Speed', hue='Legendary', ax=ax6)\n",
        "\n",
        "plt.show()"
      ],
      "metadata": {
        "id": "Fa8a_8jc0aX2"
      },
      "execution_count": null,
      "outputs": []
    },
    {
      "cell_type": "markdown",
      "source": [
        "---\n",
        "##### 그래프 분석:  \n",
        "- 전설의 포켓몬은 Total이 높은 경향이 있다.\n",
        "- 각 개별 능력치가 높을수록 Total도 높아지는 강한 상관관계를 보인다.\n",
        "- 전설의 포켓몬은 대체로 Total이 600 - 750 인 구간에 모여 있다.\n",
        "- Attack, Sp. Atk, Speed 가 Total에 비례하는 선형적인 관계를 보이며, 전설의 포켓몬이 각 스탯의 최대치를 차지하고 있다.\n",
        "- HP, Defense, Sp. Def는 분포가 흩어진 것으로 보아, 특정 포켓몬은 방어력이 낮아도 전체 능력치는 높을 수 있거나 특정 속성에 특화된 유형으로 보인다.\n"
      ],
      "metadata": {
        "id": "aoxm7XYP4ulD"
      }
    },
    {
      "cell_type": "markdown",
      "source": [
        "#### Generation 확인"
      ],
      "metadata": {
        "id": "FPurSXFM6sru"
      }
    },
    {
      "cell_type": "code",
      "source": [
        "plt.figure(figsize=(10, 10))\n",
        "\n",
        "# ordinary 그룹의 각 세대별 포켓몬 수 확인\n",
        "plt.subplot(211)\n",
        "sns.countplot(data=ordinary, x=\"Generation\").set_xlabel('')\n",
        "plt.title(\"[Ordinary Pokemons]\")\n",
        "\n",
        "# legendary 그룹의 각 세대별 포켓몬 수 확인\n",
        "plt.subplot(212)\n",
        "sns.countplot(data=legendary, x=\"Generation\").set_xlabel('')\n",
        "plt.title(\"[Legendary Pokemons]\")\n",
        "plt.show()"
      ],
      "metadata": {
        "id": "7XkKhWmm62om"
      },
      "execution_count": null,
      "outputs": []
    },
    {
      "cell_type": "markdown",
      "source": [
        "---\n",
        "전설의 포켓몬은 3세대부터 증가했다가 6세대에 다시 줄어들었다."
      ],
      "metadata": {
        "id": "D_LthKpW7Sd_"
      }
    },
    {
      "cell_type": "markdown",
      "source": [
        "### Legendary와 Ordinary를 구분하는 특성 찾기"
      ],
      "metadata": {
        "id": "u6b0-qiM7hE8"
      }
    },
    {
      "cell_type": "markdown",
      "source": [
        "#### Total"
      ],
      "metadata": {
        "id": "A1t0v_BIAwm1"
      }
    },
    {
      "cell_type": "markdown",
      "source": [
        "##### Legendary\n",
        "일반 포켓몬의 총능력치(=스탯합산점수,Total)와 Type 속성의 관계 파악"
      ],
      "metadata": {
        "id": "_85Uuhrm8-9t"
      }
    },
    {
      "cell_type": "code",
      "source": [
        "fig, ax = plt.subplots()\n",
        "fig.set_size_inches(10, 4)\n",
        "\n",
        "sns.scatterplot(data=legendary, y=\"Type 1\", x=\"Total\")\n",
        "plt.show()"
      ],
      "metadata": {
        "id": "yM1owYrq7zbj"
      },
      "execution_count": null,
      "outputs": []
    },
    {
      "cell_type": "code",
      "source": [
        "print(sorted(list(set(legendary[\"Total\"]))))"
      ],
      "metadata": {
        "id": "VqDu7zEF8GBM"
      },
      "execution_count": null,
      "outputs": []
    },
    {
      "cell_type": "code",
      "source": [
        "fig, ax = plt.subplots()\n",
        "fig.set_size_inches(10, 4)\n",
        "\n",
        "sns.countplot(data=legendary, x=\"Total\")\n",
        "plt.show()"
      ],
      "metadata": {
        "id": "Ar8AGJRg8Vob"
      },
      "execution_count": null,
      "outputs": []
    },
    {
      "cell_type": "code",
      "source": [
        "# 총 65마리의 전설의 포켓몬이 9개의 Total값만 가지므로, 약 7.22마리는 같은 Total 스탯 값을 가진다.\n",
        "round(65/9,2)"
      ],
      "metadata": {
        "id": "i6Nbv9vV8pq3"
      },
      "execution_count": null,
      "outputs": []
    },
    {
      "cell_type": "markdown",
      "source": [
        "##### Ordinary\n",
        "일반 포켓몬의 총능력치(=스탯합산점수,Total)와 Type 속성의 관계 파악"
      ],
      "metadata": {
        "id": "aGb_Zc1_9Dut"
      }
    },
    {
      "cell_type": "code",
      "source": [
        "fig, ax = plt.subplots()\n",
        "fig.set_size_inches(10, 4)\n",
        "\n",
        "sns.scatterplot(data=ordinary, y=\"Type 1\", x=\"Total\")\n",
        "plt.show()"
      ],
      "metadata": {
        "id": "B4Ayxgg388st"
      },
      "execution_count": null,
      "outputs": []
    },
    {
      "cell_type": "code",
      "source": [
        "print(len(list(set(ordinary[\"Total\"]))))"
      ],
      "metadata": {
        "id": "0FfFzVGd9Qp_"
      },
      "execution_count": null,
      "outputs": []
    },
    {
      "cell_type": "code",
      "source": [
        "# 총 735마리의 일반 포켓몬이 195개의 Total 속성값을 가지고, 약 3.77마리만 같은 Total 스탯 값을 가진다.\n",
        "round(735 / 195, 2)"
      ],
      "metadata": {
        "id": "X9UUnpGY9lyQ"
      },
      "execution_count": null,
      "outputs": []
    },
    {
      "cell_type": "markdown",
      "source": [
        "##### 그래프 분석:\n",
        "\n",
        "[Legendary]\n",
        "- 특정 타입의 포켓몬이 높은 능력치를 가지는 경향이 있음 (특정 타입에 편중)\n",
        "- Dragon, Psychic, Steel, Fire, Water 타입이 밀집하며, 더 강한 포켓몬일 가능성이 큼\n",
        "- Bug, Poison, Fighting 등의 타입이 거의 없음 -> 전설의 포켓몬으로 진화할 가능성이 낮음  \n",
        "\n",
        "[Ordinary]\n",
        "- 여러 속성이 존재하지만 특정 속성이 월등히 많지는 않음 (넓게 분산되어 분포)\n",
        "- Total 값이 낮은 포켓몬도 고르게 분포하고 있음\n",
        "\n",
        "==> `Total` 값이 전설의 포켓몬을 분류해내는 데 유의미한 정보라는 것을 알 수 있다.    \n",
        "\n",
        "---  \n",
        "\n",
        "더 시도해 볼 수 있는 것:  \n",
        "- 타입별 평균 Total 값 비교\n",
        "- 타입별 공격/방어력 분석\n",
        "- 세대와의 관계 분석\n"
      ],
      "metadata": {
        "id": "vIiQoLYW-QKw"
      }
    },
    {
      "cell_type": "markdown",
      "source": [
        "#### Name\n",
        "이름 특성에서 전설의 포켓몬을 분류해낼 수 있는 특징이 있는지 살펴본다.\n",
        "\n",
        "가설 1. 전설의 포켓몬은 이름에 특정 단어가 들어있을 확률이 높다.  \n",
        "가설 2. 전설의 포켓몬은 긴 이름을 가질 가능성이 높다."
      ],
      "metadata": {
        "id": "X64mIb-yAz08"
      }
    },
    {
      "cell_type": "code",
      "source": [
        "n1, n2, n3, n4, n5 = legendary[3:6], legendary[14:24], legendary[25:29], legendary[46:50], legendary[52:57]\n",
        "names = pd.concat([n1, n2, n3, n4, n5]).reset_index(drop=True)\n",
        "names"
      ],
      "metadata": {
        "id": "ZtzGaNGQA3TQ"
      },
      "execution_count": null,
      "outputs": []
    },
    {
      "cell_type": "code",
      "source": [
        "formes = names[13:23]\n",
        "formes"
      ],
      "metadata": {
        "id": "VH-dGXeKBZqJ"
      },
      "execution_count": null,
      "outputs": []
    },
    {
      "cell_type": "code",
      "source": [
        "legendary[\"name_count\"] = legendary[\"Name\"].apply(lambda i: len(i))\n",
        "ordinary[\"name_count\"] = ordinary[\"Name\"].apply(lambda i: len(i))"
      ],
      "metadata": {
        "id": "B0uUJzIfCO42"
      },
      "execution_count": null,
      "outputs": []
    },
    {
      "cell_type": "code",
      "source": [
        "ordinary.head(5)"
      ],
      "metadata": {
        "id": "yZpSJ1QYCZ61"
      },
      "execution_count": null,
      "outputs": []
    },
    {
      "cell_type": "code",
      "source": [
        "legendary.head(5)"
      ],
      "metadata": {
        "id": "BVaLbfthC6wf"
      },
      "execution_count": null,
      "outputs": []
    },
    {
      "cell_type": "code",
      "source": [
        "plt.figure(figsize=(12, 10))\n",
        "\n",
        "\n",
        "plt.subplot(211)\n",
        "sns.countplot(data=legendary, x=\"name_count\").set_xlabel('name length')\n",
        "plt.title(\"Legendary\")\n",
        "\n",
        "\n",
        "plt.subplot(212)\n",
        "sns.countplot(data=ordinary, x=\"name_count\").set_xlabel('name length')\n",
        "plt.title(\"Ordinary\")\n",
        "plt.show()"
      ],
      "metadata": {
        "id": "87W-bruCC-mz"
      },
      "execution_count": null,
      "outputs": []
    },
    {
      "cell_type": "code",
      "source": [
        "# 전설의 포켓몬의 이름이 10글자 이상일 확률\n",
        "print(round(len(legendary[legendary[\"name_count\"] > 9]) / len(legendary) * 100, 2), \"%\")"
      ],
      "metadata": {
        "id": "iWdKKot_Dtu6"
      },
      "execution_count": null,
      "outputs": []
    },
    {
      "cell_type": "code",
      "source": [
        "# 일반 포켓몬의 이름이 10글자 이상일 확률\n",
        "print(round(len(ordinary[ordinary[\"name_count\"] > 9]) / len(ordinary) * 100, 2), \"%\")"
      ],
      "metadata": {
        "id": "kc-A01s5EALh"
      },
      "execution_count": null,
      "outputs": []
    },
    {
      "cell_type": "markdown",
      "source": [
        "##### 분석:\n",
        "- 만약 \"Latios\"가 전설의 포켓몬이라면, \"%%% Latios\" 또한 전설의 포켓몬이다.  \n",
        "- 적어도 전설의 포켓몬에서 높은 빈도를 보이는 이름들의 모임이 존재한다.  \n",
        "- 전설의 포켓몬은 긴 이름을 가졌을 확률이 높다.  "
      ],
      "metadata": {
        "id": "aPbRIduaEPJ2"
      }
    },
    {
      "cell_type": "markdown",
      "source": [
        "# STEP 2. Data preprocessing"
      ],
      "metadata": {
        "id": "Sd-PWJD2FcE6"
      }
    },
    {
      "cell_type": "markdown",
      "source": [
        "#### 전처리 과제  \n",
        "1. 문자열 데이터를 모델에 적합한 입력 타입(수치/Bool)으로 변환  \n",
        "2. 이름의 길이가 10을 넘는지 판별하는 categorical 컬럼 생성\n",
        "3. legendary 그룹에서 빈도수가 높은 토큰을 추려내고, 토큰 포함 여부를 One-Hot Encoding으로 처리\n"
      ],
      "metadata": {
        "id": "VzbU32uNE8Jw"
      }
    },
    {
      "cell_type": "markdown",
      "source": [
        "##### 이름의 길이가 10 이상인가?"
      ],
      "metadata": {
        "id": "dkIgKlXuGdt-"
      }
    },
    {
      "cell_type": "code",
      "source": [
        "pokemon[\"name_count\"] = pokemon[\"Name\"].apply(lambda i: len(i))\n",
        "pokemon.head()\n",
        "\n",
        "pokemon[\"long_name\"] = pokemon[\"name_count\"] >= 10\n",
        "pokemon.head()"
      ],
      "metadata": {
        "id": "GD5FxksKE6bH"
      },
      "execution_count": null,
      "outputs": []
    },
    {
      "cell_type": "markdown",
      "source": [
        "##### 이름에 자주 쓰이는 토큰 추출  \n",
        "1. 이름에 알파벳이 아닌 문자가 들어간 경우 전처리"
      ],
      "metadata": {
        "id": "JwmPQZc2Glrd"
      }
    },
    {
      "cell_type": "markdown",
      "source": [
        "###### 기호, 공백 제거"
      ],
      "metadata": {
        "id": "wC9JG97QKCql"
      }
    },
    {
      "cell_type": "code",
      "source": [
        "# 띄어쓰기를 없앤 새로운 컬럼을 만든다.\n",
        "pokemon[\"Name_nospace\"] = pokemon[\"Name\"].apply(lambda i: i.replace(\" \", \"\"))\n",
        "pokemon.tail()"
      ],
      "metadata": {
        "id": "4d2OQM8MGqQz"
      },
      "execution_count": null,
      "outputs": []
    },
    {
      "cell_type": "code",
      "source": [
        "# 알파벳 외 다른 문자가 있는지 판별하는 컬럼을 만든다.\n",
        "pokemon[\"name_isalpha\"] = pokemon[\"Name_nospace\"].apply(lambda i: i.isalpha())\n",
        "pokemon.head()"
      ],
      "metadata": {
        "id": "WKdBYzR3IGRg"
      },
      "execution_count": null,
      "outputs": []
    },
    {
      "cell_type": "code",
      "source": [
        "# 알파벳 외 다른 문자가 섞였는지 True/False로 확인한다.\n",
        "print(pokemon[pokemon[\"name_isalpha\"] == False].shape) # 특수문자가 섞인 샘플 개수 확인\n",
        "pokemon[pokemon[\"name_isalpha\"] == False]"
      ],
      "metadata": {
        "id": "PUuiBzxgISNZ"
      },
      "execution_count": null,
      "outputs": []
    },
    {
      "cell_type": "code",
      "source": [
        "# 9개의 샘플만 바꿔주면 되기 때문에, 수동으로 문자열을 변환해준다.\n",
        "pokemon = pokemon.replace(to_replace=\"Nidoran♀\", value=\"Nidoran X\")\n",
        "pokemon = pokemon.replace(to_replace=\"Nidoran♂\", value=\"Nidoran Y\")\n",
        "pokemon = pokemon.replace(to_replace=\"Farfetch'd\", value=\"Farfetchd\")\n",
        "pokemon = pokemon.replace(to_replace=\"Mr. Mime\", value=\"Mr Mime\")\n",
        "pokemon = pokemon.replace(to_replace=\"Porygon2\", value=\"Porygon Two\")\n",
        "pokemon = pokemon.replace(to_replace=\"Ho-oh\", value=\"Ho Oh\")\n",
        "pokemon = pokemon.replace(to_replace=\"Mime Jr.\", value=\"Mime Jr\")\n",
        "pokemon = pokemon.replace(to_replace=\"Porygon-Z\", value=\"Porygon Z\")\n",
        "pokemon = pokemon.replace(to_replace=\"Zygarde50% Forme\", value=\"Zygarde Forme\")\n",
        "\n",
        "pokemon.loc[[34, 37, 90, 131, 252, 270, 487, 525, 794]]"
      ],
      "metadata": {
        "id": "gXKO5cGFImon"
      },
      "execution_count": null,
      "outputs": []
    },
    {
      "cell_type": "code",
      "source": [
        "# 재확인\n",
        "# pokemon[\"Name_nospace\"] = pokemon[\"Name\"].apply(lambda i: i.replace(\" \", \"\"))\n",
        "# pokemon[\"name_isalpha\"] = pokemon[\"Name_nospace\"].apply(lambda i: i.isalpha())\n",
        "# pokemon.head()\n",
        "\n",
        "pokemon.loc[[34, 37, 90, 131, 252, 270, 487, 525, 794]]"
      ],
      "metadata": {
        "id": "HMI4aLAoJkRO"
      },
      "execution_count": null,
      "outputs": []
    },
    {
      "cell_type": "markdown",
      "source": [
        "###### 토큰화\n",
        "띄어쓰기 또는 대문자 기준으로 분리해 원하는 문자열을 추출할 수 있게 토크나이징 한다."
      ],
      "metadata": {
        "id": "I_282b2RKLAC"
      }
    },
    {
      "cell_type": "code",
      "source": [
        "# 테스트용 문자열\n",
        "name = \"CharizardMega Charizard X\"\n",
        "\n",
        "\n",
        "\n",
        "# 토크나이징을 자동화해주는 함수\n",
        "def tokenize(name):\n",
        "    # 우선 공백 기준으로 이름을 분리한다.\n",
        "    name_split = name.split(\" \")\n",
        "\n",
        "    tokens = []\n",
        "    for part_name in name_split:\n",
        "        # 정규표현식을 사용해 [대문자로시작해서][소문자로끝나는]* 패턴을 토큰화 기준으로 사용한다.\n",
        "        a = re.findall('[A-Z][a-z]*', part_name)\n",
        "        tokens.extend(a)\n",
        "    # tokens\n",
        "\n",
        "    return np.array(tokens)\n",
        "\n",
        "tokenize(name)"
      ],
      "metadata": {
        "id": "OVBjNGKCKZTS"
      },
      "execution_count": null,
      "outputs": []
    },
    {
      "cell_type": "code",
      "source": [
        "# 데이터셋의 [이름]컬럼에 토크나이징 함수를 적용한다.\n",
        "all_tokens = list(legendary[\"Name\"].apply(tokenize).values)\n",
        "\n",
        "token_set = []\n",
        "for token in all_tokens:\n",
        "    token_set.extend(token)\n",
        "\n",
        "print(len(set(token_set))) # 중복 제외 총 65개 토큰 생성\n",
        "print(token_set)"
      ],
      "metadata": {
        "id": "tP5Yaz0wM99E"
      },
      "execution_count": null,
      "outputs": []
    },
    {
      "cell_type": "code",
      "source": [
        "# 토큰화된 이름이 담긴 리스트에서 가장 많이 쓰인 토큰과 등장 횟수를 10개만 출력한다.\n",
        "most_common = Counter(token_set).most_common(10)\n",
        "most_common"
      ],
      "metadata": {
        "id": "73Xhh8JkOq7d"
      },
      "execution_count": null,
      "outputs": []
    },
    {
      "cell_type": "code",
      "source": [
        "'''\n",
        "전설의 포켓몬의 이름 패턴이 일반 포켓몬에도 적용되는 지 분석한다.\n",
        "- most_common에 저장된 각 단어를 token으로 가져와 반복문 실행\n",
        "- 포켓몬 데이터에서 Name 컬럼에 해당 token이 포함되는 지 확인해 새로운 컬럼 생성 (True/False 값 반환)\n",
        "- pokemon[token] = ... 형식으로 사용하면 SettingWithCopyWarning 발생 => pokemon[f\"{token}\"] = ..문자열을 키 값으로 사용하는 방식이 안전함\n",
        "'''\n",
        "for token, _ in most_common:\n",
        "    pokemon[f\"{token}\"] = pokemon[\"Name\"].str.contains(token)\n",
        "\n",
        "pokemon.tail(5)"
      ],
      "metadata": {
        "id": "bpJ1T4VLO4IB"
      },
      "execution_count": null,
      "outputs": []
    },
    {
      "cell_type": "markdown",
      "source": [
        "##### 원-핫 인코딩"
      ],
      "metadata": {
        "id": "DDknBNb-Y0NV"
      }
    },
    {
      "cell_type": "code",
      "source": [
        "print(types)"
      ],
      "metadata": {
        "id": "Ej-ih0FtZCnK"
      },
      "execution_count": null,
      "outputs": []
    },
    {
      "cell_type": "code",
      "source": [
        "# 18가지 범주형 데이터를 숫자로 바꾸기 위해서 원-핫 인코딩(1/0) 적용\n",
        "# 타입의 모든 범주를 새로운 컬럼으로 만들고 True/False 값을 대입한다.\n",
        "for t in types:\n",
        "    pokemon[t] = (pokemon[\"Type 1\"] == t) | (pokemon[\"Type 2\"] == t)\n",
        "\n",
        "pokemon[[[\"Type 1\", \"Type 2\"] + types][0]].head()"
      ],
      "metadata": {
        "id": "oC_uPBNuY7Xj"
      },
      "execution_count": null,
      "outputs": []
    },
    {
      "cell_type": "markdown",
      "source": [
        "# STEP 3. Baseline Model Training\n",
        "최소 성능을 검증하는 기준이 될 베이스 모델을 만든다."
      ],
      "metadata": {
        "id": "dRrEun7FFm-E"
      }
    },
    {
      "cell_type": "markdown",
      "source": [
        "#### 훈련 데이터 분리"
      ],
      "metadata": {
        "id": "rILk9Ez7b9sa"
      }
    },
    {
      "cell_type": "code",
      "source": [
        "original_data.columns\n",
        "# 불필요한 데이터는 솎아내어 feature 리스트를 만든다. (value X)\n",
        "features = ['Total', 'HP', 'Attack', 'Defense', 'Sp. Atk', 'Sp. Def', 'Speed', 'Generation']\n",
        "# Target 데이터인 Legendary는 따로 떼어내 변수에 저장 (value Y)\n",
        "target = 'Legendary'"
      ],
      "metadata": {
        "id": "T-2TxQgGZjAl"
      },
      "execution_count": null,
      "outputs": []
    },
    {
      "cell_type": "code",
      "source": [
        "# X 변수 생성\n",
        "X = original_data[features]\n",
        "print(X.shape)\n",
        "X.head()"
      ],
      "metadata": {
        "id": "7RwcnIZta9d3"
      },
      "execution_count": null,
      "outputs": []
    },
    {
      "cell_type": "code",
      "source": [
        "# Y 변수 생성\n",
        "y = original_data[target]\n",
        "print(y.shape)\n",
        "y.head()"
      ],
      "metadata": {
        "id": "74ZUAFQYbEu7"
      },
      "execution_count": null,
      "outputs": []
    },
    {
      "cell_type": "code",
      "source": [
        "# 테스트, 훈련 데이터 분리\n",
        "X_train, X_test, y_train, y_test = train_test_split(X, y, test_size=0.2, random_state=15)\n",
        "\n",
        "print(X_train.shape, y_train.shape)\n",
        "print(X_test.shape, y_test.shape)"
      ],
      "metadata": {
        "id": "0Xqr9pGCbUmX"
      },
      "execution_count": null,
      "outputs": []
    },
    {
      "cell_type": "markdown",
      "source": [
        "\n",
        "\n",
        "---\n",
        "학습 데이터 샘플: 640\n",
        "테스트 데이터 샘플: 160\n"
      ],
      "metadata": {
        "id": "0kCIoWf0bu4d"
      }
    },
    {
      "cell_type": "markdown",
      "source": [
        "#### 분류모델: Decision Tree"
      ],
      "metadata": {
        "id": "RXRnLzoMb3-m"
      }
    },
    {
      "cell_type": "code",
      "source": [
        "# 모델 정의\n",
        "model = DecisionTreeClassifier(random_state=25)\n",
        "model"
      ],
      "metadata": {
        "id": "rM5rl_tjb1We"
      },
      "execution_count": null,
      "outputs": []
    },
    {
      "cell_type": "code",
      "source": [
        "# 학습 시키기\n",
        "model.fit(X_train, y_train)\n",
        "y_pred = model.predict(X_test)"
      ],
      "metadata": {
        "id": "oKXk3X7LcMce"
      },
      "execution_count": null,
      "outputs": []
    },
    {
      "cell_type": "markdown",
      "source": [
        "###### 평가지표: confusion_matrix"
      ],
      "metadata": {
        "id": "3qDsql73eL84"
      }
    },
    {
      "cell_type": "code",
      "source": [
        "# 채점 하기\n",
        "confusion_matrix(y_test, y_pred)"
      ],
      "metadata": {
        "id": "bIzse84beJiJ"
      },
      "execution_count": null,
      "outputs": []
    },
    {
      "cell_type": "code",
      "source": [
        "len(legendary)"
      ],
      "metadata": {
        "id": "pw3wa1_0cwz1"
      },
      "execution_count": null,
      "outputs": []
    },
    {
      "cell_type": "markdown",
      "source": [
        "---\n",
        "confusion_matrix 의 반환값: [TN, FP, FN, TP]  \n",
        "Positive: Legendary=True (전설의 포켓몬)  \n",
        "Negative: Legendary=False (일반 포켓몬)  \n",
        "\n",
        "---\n",
        "TN (True Negative) : 옳게 판단한 Negative, 즉 일반 포켓몬을 일반 포켓몬이라고 알맞게 판단한 경우  \n",
        "FP (False Positive) : 틀리게 판단한 Positive, 즉 일반 포켓몬을 전설의 포켓몬이라고 잘못 판단한 경우  \n",
        "FN (False Negative) : 틀리게 판단한 Negative, 즉 전설의 포켓몬을 일반 포켓몬이라고 잘못 판단한 경우  \n",
        "TP (True Positive) : 옳게 판단한 Positive, 즉 전설의 포켓몬을 전설의 포켓몬이라고 알맞게 판단한 경우  \n",
        "\n",
        "---\n",
        "\n",
        "=> 포켓몬 데이터셋에서 타깃이 되는 전설의 포켓몬은 수량이 현저히 적어 정확도로 모델의 성능을 평가하기가 어렵다.   \n",
        "(데이터 편향으로 인해 모델이 무작위 예측을 해도 높은 정확도가 나올 수 있음)\n",
        "\n",
        "=> 적은 양의 데이터인 Positive(=전설의 포켓몬)를 잘 잡아내는 것이 목표!"
      ],
      "metadata": {
        "id": "Y0tZGYpWcyAk"
      }
    },
    {
      "cell_type": "markdown",
      "source": [
        "###### 평가지표: classification_report"
      ],
      "metadata": {
        "id": "UW81WzJTd_dJ"
      }
    },
    {
      "cell_type": "code",
      "source": [
        "print(classification_report(y_test, y_pred))"
      ],
      "metadata": {
        "id": "czzkb2QseWSk"
      },
      "execution_count": null,
      "outputs": []
    },
    {
      "cell_type": "markdown",
      "source": [
        "\n",
        "\n",
        "---\n",
        "Recall 값이 낮다 => FN값이 높다.\n",
        "\n"
      ],
      "metadata": {
        "id": "TCwNubnsecb3"
      }
    },
    {
      "cell_type": "markdown",
      "source": [
        "#### 피쳐엔지니어링 데이터로 재학습"
      ],
      "metadata": {
        "id": "Tsg-sDrwfLrq"
      }
    },
    {
      "cell_type": "code",
      "source": [
        "print(len(pokemon.columns))\n",
        "print(pokemon.columns)"
      ],
      "metadata": {
        "id": "BxbcVrRefS_1"
      },
      "execution_count": null,
      "outputs": []
    },
    {
      "cell_type": "code",
      "source": [
        "features = ['Total', 'HP', 'Attack', 'Defense','Sp. Atk', 'Sp. Def', 'Speed', 'Generation',\n",
        "            'name_count','long_name', 'Forme', 'Mega', 'Mewtwo','Deoxys', 'Kyurem', 'Latias', 'Latios',\n",
        "            'Kyogre', 'Groudon', 'Hoopa','Poison', 'Ground', 'Flying', 'Normal', 'Water', 'Fire',\n",
        "            'Electric','Rock', 'Dark', 'Fairy', 'Steel', 'Ghost', 'Psychic', 'Ice', 'Bug', 'Grass', 'Dragon', 'Fighting']\n",
        "\n",
        "len(features)"
      ],
      "metadata": {
        "id": "FszTHlZrfaQA"
      },
      "execution_count": null,
      "outputs": []
    },
    {
      "cell_type": "code",
      "source": [
        "target = \"Legendary\"\n",
        "target"
      ],
      "metadata": {
        "id": "0t8pbsAwfhCL"
      },
      "execution_count": null,
      "outputs": []
    },
    {
      "cell_type": "code",
      "source": [
        "X = pokemon[features]\n",
        "print(X.shape)\n",
        "X.head()"
      ],
      "metadata": {
        "id": "oAp9kWr5fh3Y"
      },
      "execution_count": null,
      "outputs": []
    },
    {
      "cell_type": "code",
      "source": [
        "y = pokemon[target]\n",
        "print(y.shape)\n",
        "y.head()"
      ],
      "metadata": {
        "id": "g4ZqN0-0gLGh"
      },
      "execution_count": null,
      "outputs": []
    },
    {
      "cell_type": "code",
      "source": [
        "X_train, X_test, y_train, y_test = train_test_split(X, y, test_size=0.2, random_state=15)\n",
        "\n",
        "print(X_train.shape, y_train.shape)\n",
        "print(X_test.shape, y_test.shape)"
      ],
      "metadata": {
        "id": "bHsVasgQgTko"
      },
      "execution_count": null,
      "outputs": []
    },
    {
      "cell_type": "code",
      "source": [
        "model = DecisionTreeClassifier(random_state=25)\n",
        "model"
      ],
      "metadata": {
        "id": "p6BN67IggWo6"
      },
      "execution_count": null,
      "outputs": []
    },
    {
      "cell_type": "code",
      "source": [
        "model.fit(X_train, y_train)\n",
        "y_pred = model.predict(X_test)"
      ],
      "metadata": {
        "id": "k_NnIV05giwR"
      },
      "execution_count": null,
      "outputs": []
    },
    {
      "cell_type": "code",
      "source": [
        "confusion_matrix(y_test, y_pred)"
      ],
      "metadata": {
        "id": "FYA371JTgl5l"
      },
      "execution_count": null,
      "outputs": []
    },
    {
      "cell_type": "code",
      "source": [
        "# classification_report로 모델 평가\n",
        "print(classification_report(y_test, y_pred))"
      ],
      "metadata": {
        "id": "gnnZJOVTgqbS"
      },
      "execution_count": null,
      "outputs": []
    },
    {
      "cell_type": "markdown",
      "source": [
        "---\n",
        "원데이터셋으로 훈련한 모델1) 에 비해 recall 지표가 높게 나왔다.   \n",
        "=> 전처리 데이터의 중요성 확인\n",
        "  \n",
        "\n",
        "1)  \n",
        "![image.png](data:image/png;base64,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)\n"
      ],
      "metadata": {
        "id": "V3hBDvQkg0Ex"
      }
    },
    {
      "cell_type": "markdown",
      "source": [
        "# STEP 4. Comparison and Analysis"
      ],
      "metadata": {
        "id": "R1sRQj-lFuul"
      }
    },
    {
      "cell_type": "code",
      "source": [
        "# 데이터 준비\n",
        "# 인풋과 라벨 설정\n",
        "features = ['Total', 'HP', 'Attack', 'Defense','Sp. Atk', 'Sp. Def', 'Speed', 'Generation',\n",
        "            'name_count','long_name', 'Forme', 'Mega', 'Mewtwo','Deoxys', 'Kyurem', 'Latias', 'Latios',\n",
        "            'Kyogre', 'Groudon', 'Hoopa','Poison', 'Ground', 'Flying', 'Normal', 'Water', 'Fire',\n",
        "            'Electric','Rock', 'Dark', 'Fairy', 'Steel', 'Ghost', 'Psychic', 'Ice', 'Bug', 'Grass', 'Dragon', 'Fighting']\n",
        "target = \"Legendary\"\n",
        "\n",
        "X = pokemon[features]\n",
        "y = pokemon[target]\n",
        "\n",
        "# 데이터 분할 (훈련: 80%, 테스트: 20%)\n",
        "X_train, X_test, y_train, y_test = train_test_split(X, y, test_size=0.2, random_state=42) # 재현성을 위해 랜덤 시드 고정\n",
        "\n",
        "# 표준화 (SVM 및 로지스틱 회귀에 필요)\n",
        "scaler = StandardScaler()\n",
        "X_train_scaled = scaler.fit_transform(X_train)\n",
        "X_test_scaled = scaler.transform(X_test)\n",
        "\n",
        "# 모델 리스트\n",
        "models = {\n",
        "    \"Logistic Regression\": LogisticRegression(),\n",
        "    \"SVM\": SVC(),\n",
        "    \"Random Forest\": RandomForestClassifier(n_estimators=100, random_state=42),\n",
        "    \"Gradient Boosting\": GradientBoostingClassifier(n_estimators=100, random_state=42),\n",
        "    \"XGBoost\": xgb.XGBClassifier(n_estimators=100, use_label_encoder=False, eval_metric=\"logloss\")\n",
        "}\n",
        "\n",
        "# 모델 학습 및 평가\n",
        "results = {}\n",
        "for name, model in models.items():\n",
        "    print(f\"Training {name}...\")\n",
        "\n",
        "    if name in [\"Logistic Regression\", \"SVM\"]:  # 표준화된 데이터 사용\n",
        "        model.fit(X_train_scaled, y_train)\n",
        "        y_pred = model.predict(X_test_scaled)\n",
        "    else:\n",
        "        model.fit(X_train, y_train)\n",
        "        y_pred = model.predict(X_test)\n",
        "\n",
        "    acc = accuracy_score(y_test, y_pred)\n",
        "    results[name] = acc\n",
        "    print(f\"{name} Accuracy: {acc:.4f}\")\n",
        "    print(classification_report(y_test, y_pred))\n",
        "    print(\"-\" * 50)\n",
        "\n",
        "# 정확도 비교\n",
        "print(\"Model Performance Comparison\")\n",
        "for model, acc in sorted(results.items(), key=lambda x: x[1], reverse=True):\n",
        "    print(f\"{model}: {acc:.4f}\")\n"
      ],
      "metadata": {
        "id": "f4KxbWLNigIX"
      },
      "execution_count": null,
      "outputs": []
    },
    {
      "cell_type": "markdown",
      "source": [
        "# STEP 5. Report"
      ],
      "metadata": {
        "id": "qkvs4quZGFID"
      }
    },
    {
      "cell_type": "markdown",
      "source": [
        "각 모델의 정확도를 비교해서 어떤 모델이 Legendary 포켓몬을 가장 잘 분류하는지 확인하고,  평가 결과는 classification_report로 받아보았다.  \n",
        "\n",
        "리포트는 네 가지 항목에서 결과를 반환한다.  \n",
        "\n",
        "    - 정밀도(Precision): 모델이 예측한 Legendary 중 실제로 Legendary인 비율  \n",
        "    - 재현율(Recall): 실제 Legendary 중 모델이 Legendary로 예측한 비율  \n",
        "    - F1 점수(F1-Score): 정밀도와 재현율의 조화 평균. 두 지표의 균형을 고려한 성능 평가  \n",
        "    - 지원도(Support): 클래스별로 실제 레이블의 수  \n",
        "\n",
        "모델별 정확도는 다음과 같다.  \n",
        "\n",
        "    Logistic Regression: 0.9812\n",
        "    Gradient Boosting: 0.9812\n",
        "    XGBoost: 0.9750\n",
        "    SVM: 0.9688\n",
        "    Random Forest: 0.9563\n",
        "\n",
        "정확도에서 Logistic Regression과 Gradient Boosting이 가장 높은 성능을 보였으며,   둘 다 약 98.12%의 정확도를 보인다. XGBoost와 SVM(96.88%)이 그 뒤를 따르고 있다.\n",
        "\n",
        "---  \n",
        "세부 평가 지표에서 정밀도, 재현율, F1 점수에 대해 각 모델이 약간씩 다른 성향을 보인다.\n",
        "\n"
      ],
      "metadata": {
        "id": "uBUhfuCGkiDh"
      }
    },
    {
      "cell_type": "code",
      "source": [
        "# 각 모델에 따른 Accuracy 와 F1 score 지표 비교\n",
        "models = ['Logistic Regression', 'SVM', 'Random Forest', 'Gradient Boosting', 'XGBoost']\n",
        "accuracies = [0.9812, 0.9688, 0.9563, 0.9812, 0.9750]\n",
        "f1_scores = [0.92, 0.84, 0.80, 0.93, 0.90]  # F1 점수는 각 모델의 macro avg에서 가져옴\n",
        "\n",
        "# 데이터프레임으로 변환\n",
        "data = pd.DataFrame({\n",
        "    'Model': models,\n",
        "    'Accuracy': accuracies,\n",
        "    'F1 Score': f1_scores\n",
        "})\n",
        "\n",
        "# 시각화\n",
        "plt.figure(figsize=(10, 6))\n",
        "\n",
        "# 모델별 정확도와 F1 점수를 바 비교\n",
        "sns.barplot(x='Model', y='value', hue='variable', data=pd.melt(data, id_vars=['Model'], value_vars=['Accuracy', 'F1 Score']),\n",
        "            palette=\"Blues_d\")\n",
        "\n",
        "# 제목과 라벨 설정\n",
        "plt.title('Model Performance Comparison', fontsize=16)\n",
        "plt.xlabel('Model', fontsize=14)\n",
        "plt.ylabel('Score', fontsize=14)\n",
        "plt.xticks(rotation=45)\n",
        "plt.legend(title='Metric', loc='upper left')\n",
        "\n",
        "# 그래프 출력\n",
        "plt.tight_layout()\n",
        "plt.show()\n"
      ],
      "metadata": {
        "id": "oNn0ay9emKby"
      },
      "execution_count": null,
      "outputs": []
    }
  ]
}