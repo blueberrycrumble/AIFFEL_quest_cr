{
  "nbformat": 4,
  "nbformat_minor": 0,
  "metadata": {
    "colab": {
      "provenance": [],
      "authorship_tag": "ABX9TyOavfrpwdRWeKyFF2AuAqag",
      "include_colab_link": true
    },
    "kernelspec": {
      "name": "python3",
      "display_name": "Python 3"
    },
    "language_info": {
      "name": "python"
    }
  },
  "cells": [
    {
      "cell_type": "markdown",
      "metadata": {
        "id": "view-in-github",
        "colab_type": "text"
      },
      "source": [
        "<a href=\"https://colab.research.google.com/github/blueberrycrumble/AIFFEL_quest_cr/blob/master/MainQuest/Quest01/mainquest_01_account_20250117.ipynb\" target=\"_parent\"><img src=\"https://colab.research.google.com/assets/colab-badge.svg\" alt=\"Open In Colab\"/></a>"
      ]
    },
    {
      "cell_type": "code",
      "execution_count": 17,
      "metadata": {
        "colab": {
          "base_uri": "https://localhost:8080/",
          "height": 128
        },
        "id": "ALjlSAKK2TA8",
        "outputId": "a71c7781-0b47-42b8-9220-7cc3b3b66bd8"
      },
      "outputs": [
        {
          "output_type": "execute_result",
          "data": {
            "text/plain": [
              "\"\\n입력: 은행이름, 예금주, 계좌번호, 잔액\\n\\n제한: \\n- 은행이름: SC은행\\n- 계좌번호 : 3자리-2자리-6자리 형태 (랜덤 생성)\\n    - 랜덤모듈, randint(a,b):무작위 int 자료형 출력\\n- 인스턴스 3개 이상 생성 -> 리스트에 저장 -> 개수 세기\\n\\nBank 클래스 생성\\n- vip_list 홀더\\n\\nx1. Account 클래스 생성\\n    생성자 __init__()\\n    입력: 예금주와 초기잔액 (=> 객체로부터 전달 받기)\\n\\n2. 클래스 변수 사용\\n   인스턴스 객체 개수 저장(list)\\n    \\n3. get_account_num() 메서드 추가 \\n   # 인스턴스 객체 개수 저장\\n    - account_num += 1\\n\\n4. deposit() 메서드 추가 \\n   # 입금 \\n   조건: 1원 이상만 입금 가능 (n > 0)\\n         print('입금은 최소 1원 이상만 가능합니다.')\\n   입금 될 때마다 -> deposit_history() 기록 업데이트, 입금 횟수 카운트(=> 7번 조건문)\\n\\n5. withdraw() 메서드 추가 \\n   # 출금\\n   조건: 계좌의 잔고 이상 출금 불가\\n        print('계좌 잔고 이상으로 출금할 수 없습니다.')\\n   출금 될 때마다 -> withdraw_history() 기록 업데이트\\n\\n6. display_info() 메서드 추가 (조건: 잔고는 세자리마다 쉼표 출력)\\n   # 인스턴스에 저장된 정보를 출력\\n   - 인스턴스에 저장된 정보: {은행이름: SC은행, 예금주: 파이썬, 계좌번호: 111-11-111111, 잔고: 10,000원} => 메서드의 리턴값\\n\\n7. 조건문\\n       입금 횟수가 5회가 될 때 잔고의 1% 이자 지급\\n            print({잔고의 1%}의 이자가 지급되었습니다.)\\n\\n8. 반복문\\n        리스트에 있는 객체를 순회하면서 잔고 체크(조건: 100만원 이상) => = vip_list = 조건을 성립하는 고객 명단 출력 \\n\\n9. deposit_history(), withdraw_history() 메서드 추가\\n    # 입금 내역, 출금 내역 기록\\n    양식: 횟수카운트: {입금/출금/이자지급} 금액:{} 잔액:{}\\n    print('-'*50) => decorator 사용할수도\\n\\n\\n\""
            ],
            "application/vnd.google.colaboratory.intrinsic+json": {
              "type": "string"
            }
          },
          "metadata": {},
          "execution_count": 17
        }
      ],
      "source": [
        "'''\n",
        "입력: 은행이름, 예금주, 계좌번호, 잔액\n",
        "\n",
        "제한:\n",
        "x- 은행이름: SC은행\n",
        "x- 계좌번호 : 3자리-2자리-6자리 형태 (랜덤 생성)\n",
        "    - 랜덤모듈, randint(a,b):무작위 int 자료형 출력\n",
        "- 인스턴스 3개 이상 생성 -> 리스트에 저장 -> 개수 세기\n",
        "\n",
        "Bank 클래스 생성\n",
        "- vip_list 홀더\n",
        "\n",
        "x1. Account 클래스 생성\n",
        "    생성자 __init__()\n",
        "    입력: 예금주와 초기잔액 (=> 객체로부터 전달 받기)\n",
        "\n",
        "x2. 클래스 변수 사용\n",
        "   인스턴스 객체 개수 저장(list) > dictionary\n",
        "\n",
        "x3. get_account_num() 메서드 추가\n",
        "   # 인스턴스 객체 개수 저장\n",
        "    account_num += 1\n",
        "\n",
        "x4. deposit() 메서드 추가\n",
        "   # 입금\n",
        "   조건: 1원 이상만 입금 가능 (n > 0)\n",
        "         print('입금은 최소 1원 이상만 가능합니다.')\n",
        "   입금 될 때마다 -> deposit_history() 기록 업데이트, 입금 횟수 카운트(=> 7번 조건문)\n",
        "\n",
        "x5. withdraw() 메서드 추가\n",
        "   # 출금\n",
        "   조건: 계좌의 잔고 이상 출금 불가\n",
        "        print('계좌 잔고 이상으로 출금할 수 없습니다.')\n",
        "   출금 될 때마다 -> withdraw_history() 기록 업데이트\n",
        "\n",
        "x6. display_info() 메서드 추가 (조건: 잔고는 세자리마다 쉼표 출력)\n",
        "   # 인스턴스에 저장된 정보를 출력\n",
        "   - 인스턴스에 저장된 정보: {은행이름: SC은행, 예금주: 파이썬, 계좌번호: 111-11-111111, 잔고: 10,000원} => 메서드의 리턴값\n",
        "\n",
        "x7. 조건문\n",
        "       입금 횟수가 5회가 될 때 잔고의 1% 이자 지급\n",
        "            print({잔고의 1%}의 이자가 지급되었습니다.)\n",
        "\n",
        "8. 반복문\n",
        "        리스트에 있는 객체를 순회하면서 잔고 체크(조건: 100만원 이상) => = vip_list = 조건을 성립하는 고객 명단 출력\n",
        "\n",
        "x 9. deposit_history(), withdraw_history() 메서드 추가\n",
        "    # 입금 내역, 출금 내역 기록\n",
        "    양식: 횟수카운트: {입금/출금/이자지급} 금액:{} 잔액:{}\n",
        "    print('-'*50) => decorator 사용할수도\n",
        "\n",
        "\n",
        "'''"
      ]
    },
    {
      "cell_type": "code",
      "source": [
        "import random as r\n",
        "\n",
        "class Bank:\n",
        "    def __init__(self, bank_name):\n",
        "        self.accounts = {}\n",
        "        self.bank_name = bank_name\n",
        "\n",
        "    def get_account_num(self):\n",
        "        return len(self.accounts)\n",
        "\n",
        "    def create_account(self, username):\n",
        "        account_id = self._create_account_id()\n",
        "        account = Account(username, account_id,self.bank_name, balance = 0) # Account 클래스의 인스턴스 생성\n",
        "        print(f\"{username}'s account with {account_id} is created.\")\n",
        "        self.accounts[account_id]= account\n",
        "        return account_id\n",
        "\n",
        "    def delete_account(self, account_id): # 중복된 계좌 삭제\n",
        "        if account_id in self.accounts:\n",
        "            username = self.accounts[account_id].name\n",
        "            del self.accounts[account_id]\n",
        "            print(f\"{username}고객님의 {account_id}계좌가 이미 존재합니다.\")\n",
        "\n",
        "    def get_account(self, username):\n",
        "        return self.accounts[username]\n",
        "\n",
        "    def print_millionairs(self):\n",
        "        for key in self.accounts:\n",
        "            account = self.accounts[key]\n",
        "            if account.balance >= 1000000:\n",
        "                print(f\"잔고가 100만원 이상인 예금주 {account.name}{account.account_id}\")\n",
        "\n",
        "    def _create_account_id(self):\n",
        "\n",
        "        while True:\n",
        "\n",
        "            id_format = [3,2,6]\n",
        "            # account_id = ['a','a','a','-','a','a','-','a','a','a','a','a','a']\n",
        "            account_id = ''\n",
        "            for i in id_format:\n",
        "                for x in range(i):\n",
        "                    account_id += str(r.randint(0,9))\n",
        "                account_id += '-'\n",
        "            if account_id not in self.accounts:\n",
        "                return account_id[:-1]\n",
        "        return\n",
        "\n",
        "class Account:\n",
        "    def __init__(self,username: str,account_id: str,bank_name: str,balance: int):\n",
        "        '''\n",
        "        initiating user info\n",
        "        params: name, balance\n",
        "\n",
        "        '''\n",
        "        self.account_id = account_id\n",
        "        self.name = username\n",
        "        self.balance = balance\n",
        "        self.bank_name = bank_name\n",
        "        self.log = []\n",
        "\n",
        "\n",
        "    # def get_account_num(self): # 계좌는 Bank Class 에서 생성\n",
        "    #     pass\n",
        "    def get_balance(self):\n",
        "        return self.balance\n",
        "\n",
        "    def deposit(self, amount):\n",
        "        self.balance += amount\n",
        "        self.log.append({'transaction':'deposit','amount':amount,'balance':self.balance})\n",
        "\n",
        "        if len(self.deposit_history())%5 == 0:\n",
        "           self.balance *= 1.01\n",
        "           print(f\"이자가 지급되었습니다.\")\n",
        "        return\n",
        "\n",
        "    def withdraw(self, amount):\n",
        "        self.balance -= amount\n",
        "        self.log.append({'transaction':'withdraw','amount':amount,'balance':self.balance})\n",
        "        return\n",
        "\n",
        "    def display_info(self):\n",
        "        print(f\"은행:{self.bank_name}\\n계좌번호:{self.account_id}\\n예금주:{self.name}\\n잔액:{self.balance}\")\n",
        "\n",
        "    def deposit_history(self):\n",
        "        deposits = [ x for x in self.log if x['transaction'] == 'deposit' ]\n",
        "        return deposits\n",
        "\n",
        "    def withdraw_history(self):\n",
        "        withdrawal = [ x for x in self.log if x['transaction'] == 'withdraw' ]\n",
        "        return withdrawal\n",
        "\n"
      ],
      "metadata": {
        "id": "mqtce8OAEfPJ"
      },
      "execution_count": 103,
      "outputs": []
    },
    {
      "cell_type": "code",
      "source": [
        "# 은행 객체 생성\n",
        "SC_bank = Bank('SC은행')"
      ],
      "metadata": {
        "id": "8PZGiK1mRJCc"
      },
      "execution_count": 104,
      "outputs": []
    },
    {
      "cell_type": "code",
      "source": [
        "# 계좌 객체 생성\n",
        "user_1 = SC_bank.create_account('maria')\n",
        "user_2 = SC_bank.create_account('john')\n",
        "user_3 = SC_bank.create_account('vivi')\n",
        "user_4 = SC_bank.create_account('george')\n",
        "\n",
        "# 은행에 계좌가 몇 개 있는지 출력\n",
        "print(f\"\\n현재 계좌가 {SC_bank.get_account_num()}개 있습니다.\")\n",
        "\n",
        "# 계좌 한 개를 임의로 삭제\n",
        "SC_bank.delete_account(user_2)\n",
        "print(f\"\\n현재 계좌가 {SC_bank.get_account_num()}개 있습니다.\")"
      ],
      "metadata": {
        "colab": {
          "base_uri": "https://localhost:8080/"
        },
        "id": "Ly3Xl2EYRTxU",
        "outputId": "c8898754-56d9-41d4-c770-a1928de980ad"
      },
      "execution_count": 105,
      "outputs": [
        {
          "output_type": "stream",
          "name": "stdout",
          "text": [
            "maria's account with 256-60-498027 is created.\n",
            "john's account with 370-11-932785 is created.\n",
            "vivi's account with 786-46-114089 is created.\n",
            "george's account with 297-21-497113 is created.\n",
            "\n",
            "현재 계좌가 4개 있습니다.\n",
            "john고객님의 370-11-932785계좌가 이미 존재합니다.\n",
            "\n",
            "현재 계좌가 3개 있습니다.\n"
          ]
        }
      ]
    },
    {
      "cell_type": "code",
      "source": [
        "my_account = SC_bank.get_account(user_1) # user_1의 계좌 정보 출력\n",
        "my_account.display_info()"
      ],
      "metadata": {
        "colab": {
          "base_uri": "https://localhost:8080/"
        },
        "id": "wzskXY2RSLLP",
        "outputId": "cda28429-bb93-452a-bb72-429882c39a87"
      },
      "execution_count": 106,
      "outputs": [
        {
          "output_type": "stream",
          "name": "stdout",
          "text": [
            "은행:SC은행\n",
            "계좌번호:256-60-498027\n",
            "예금주:maria\n",
            "잔액:0\n"
          ]
        }
      ]
    },
    {
      "cell_type": "code",
      "source": [
        "# 계좌에 입금이 5번 될 때 마다 이자 지급\n",
        "my_account.deposit(1000000)\n",
        "print('here is your balance:', my_account.get_balance())\n",
        "my_account.withdraw(30)"
      ],
      "metadata": {
        "colab": {
          "base_uri": "https://localhost:8080/"
        },
        "id": "tjFCq7J0CxfU",
        "outputId": "45505673-bde7-4c55-f587-767956be59eb"
      },
      "execution_count": 110,
      "outputs": [
        {
          "output_type": "stream",
          "name": "stdout",
          "text": [
            "here is your balance: 1000210\n"
          ]
        }
      ]
    },
    {
      "cell_type": "code",
      "source": [
        "my_account.deposit_history() # 입금내역"
      ],
      "metadata": {
        "colab": {
          "base_uri": "https://localhost:8080/"
        },
        "id": "iHY7JCAmIDfL",
        "outputId": "bfa44967-dcd3-4c8f-f0e3-e6651a1f0763"
      },
      "execution_count": 111,
      "outputs": [
        {
          "output_type": "execute_result",
          "data": {
            "text/plain": [
              "[{'transaction': 'deposit', 'amount': 100, 'balance': 100},\n",
              " {'transaction': 'deposit', 'amount': 100, 'balance': 170},\n",
              " {'transaction': 'deposit', 'amount': 100, 'balance': 240},\n",
              " {'transaction': 'deposit', 'amount': 1000000, 'balance': 1000210}]"
            ]
          },
          "metadata": {},
          "execution_count": 111
        }
      ]
    },
    {
      "cell_type": "code",
      "source": [
        "my_account.withdraw_history() # 출금내역"
      ],
      "metadata": {
        "colab": {
          "base_uri": "https://localhost:8080/"
        },
        "id": "FXYpo5rWIPTX",
        "outputId": "9881b719-280f-4d3b-8172-c9301229c3d3"
      },
      "execution_count": 112,
      "outputs": [
        {
          "output_type": "execute_result",
          "data": {
            "text/plain": [
              "[{'transaction': 'withdraw', 'amount': 30, 'balance': 70},\n",
              " {'transaction': 'withdraw', 'amount': 30, 'balance': 140},\n",
              " {'transaction': 'withdraw', 'amount': 30, 'balance': 210},\n",
              " {'transaction': 'withdraw', 'amount': 30, 'balance': 1000180}]"
            ]
          },
          "metadata": {},
          "execution_count": 112
        }
      ]
    },
    {
      "cell_type": "code",
      "source": [
        "SC_bank.print_millionairs()"
      ],
      "metadata": {
        "colab": {
          "base_uri": "https://localhost:8080/"
        },
        "id": "xGK413gYawBx",
        "outputId": "0068a7f2-f0c5-4284-e32f-942b99e6962c"
      },
      "execution_count": 114,
      "outputs": [
        {
          "output_type": "stream",
          "name": "stdout",
          "text": [
            "잔고가 100만원 이상인 예금주 maria256-60-498027\n"
          ]
        }
      ]
    },
    {
      "cell_type": "code",
      "source": [
        "'''\n",
        "디버깅\n",
        "print(SC_bank.get_account_num())\n",
        "account_id = SC_bank.create_account('personA')\n",
        "\n",
        "print(SC_bank.get_account_num())\n",
        "my_account = SC_bank.get_account(account_id)\n",
        "my_account = SC_bank.get_account(account_id)\n",
        "print('here is your balance:', my_account.get_balance())\n",
        "my_account.deposit(100)\n",
        "print('here is your balance:', my_account.get_balance())\n",
        "\n",
        "\n",
        "# user1 = Account('Jane',1000)\n",
        "# user2 = Account('Peter',30000)\n",
        "# user3 = Account('Kim',10)\n",
        "\n",
        "'''"
      ],
      "metadata": {
        "colab": {
          "base_uri": "https://localhost:8080/"
        },
        "id": "dsCNI4Jr_Y2f",
        "outputId": "ac7a6b88-b7b0-4860-a5ed-d615fabd078f"
      },
      "execution_count": 65,
      "outputs": [
        {
          "output_type": "stream",
          "name": "stdout",
          "text": [
            "0\n",
            "this account with id is created:581-61-073946\n",
            "581-61-073946\n",
            "1\n",
            "here is your balance: 0\n",
            "here is your balance: 100\n"
          ]
        }
      ]
    }
  ]
}