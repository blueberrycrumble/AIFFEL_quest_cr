{
  "nbformat": 4,
  "nbformat_minor": 0,
  "metadata": {
    "colab": {
      "provenance": [],
      "authorship_tag": "ABX9TyOhPzuy5UVP/jlrMB5Kq3AY",
      "include_colab_link": true
    },
    "kernelspec": {
      "name": "python3",
      "display_name": "Python 3"
    },
    "language_info": {
      "name": "python"
    }
  },
  "cells": [
    {
      "cell_type": "markdown",
      "metadata": {
        "id": "view-in-github",
        "colab_type": "text"
      },
      "source": [
        "<a href=\"https://colab.research.google.com/github/blueberrycrumble/AIFFEL_quest_cr/blob/master/MainQuest/Quest01/mainquest_02_battle.ipynb\" target=\"_parent\"><img src=\"https://colab.research.google.com/assets/colab-badge.svg\" alt=\"Open In Colab\"/></a>"
      ]
    },
    {
      "cell_type": "code",
      "execution_count": 10,
      "metadata": {
        "colab": {
          "base_uri": "https://localhost:8080/",
          "height": 332
        },
        "id": "BGDpJjc9oYPO",
        "outputId": "58ca8b69-32f4-4060-8b11-6f476d11126c"
      },
      "outputs": [
        {
          "name": "stdout",
          "output_type": "stream",
          "text": [
            "플레이어 이름을 입력하세요: ㅓㅓ\n"
          ]
        },
        {
          "output_type": "error",
          "ename": "TypeError",
          "evalue": "Monster.__init__() takes 2 positional arguments but 3 were given",
          "traceback": [
            "\u001b[0;31m---------------------------------------------------------------------------\u001b[0m",
            "\u001b[0;31mTypeError\u001b[0m                                 Traceback (most recent call last)",
            "\u001b[0;32m<ipython-input-10-c1743075d940>\u001b[0m in \u001b[0;36m<cell line: 0>\u001b[0;34m()\u001b[0m\n\u001b[1;32m    119\u001b[0m \u001b[0;34m\u001b[0m\u001b[0m\n\u001b[1;32m    120\u001b[0m \u001b[0;32mif\u001b[0m \u001b[0m__name__\u001b[0m \u001b[0;34m==\u001b[0m \u001b[0;34m\"__main__\"\u001b[0m\u001b[0;34m:\u001b[0m\u001b[0;34m\u001b[0m\u001b[0;34m\u001b[0m\u001b[0m\n\u001b[0;32m--> 121\u001b[0;31m     \u001b[0mmain\u001b[0m\u001b[0;34m(\u001b[0m\u001b[0;34m)\u001b[0m\u001b[0;34m\u001b[0m\u001b[0;34m\u001b[0m\u001b[0m\n\u001b[0m",
            "\u001b[0;32m<ipython-input-10-c1743075d940>\u001b[0m in \u001b[0;36mmain\u001b[0;34m()\u001b[0m\n\u001b[1;32m    110\u001b[0m     \u001b[0;31m# Battle with each monster\u001b[0m\u001b[0;34m\u001b[0m\u001b[0;34m\u001b[0m\u001b[0m\n\u001b[1;32m    111\u001b[0m     \u001b[0;32mfor\u001b[0m \u001b[0mmonster_name\u001b[0m\u001b[0;34m,\u001b[0m \u001b[0mlv\u001b[0m \u001b[0;32min\u001b[0m \u001b[0mmonster_dict\u001b[0m\u001b[0;34m.\u001b[0m\u001b[0mitems\u001b[0m\u001b[0;34m(\u001b[0m\u001b[0;34m)\u001b[0m\u001b[0;34m:\u001b[0m\u001b[0;34m\u001b[0m\u001b[0;34m\u001b[0m\u001b[0m\n\u001b[0;32m--> 112\u001b[0;31m         \u001b[0mmonster\u001b[0m \u001b[0;34m=\u001b[0m \u001b[0mMonster\u001b[0m\u001b[0;34m(\u001b[0m\u001b[0mmonster_name\u001b[0m\u001b[0;34m,\u001b[0m \u001b[0mlv\u001b[0m\u001b[0;34m)\u001b[0m\u001b[0;34m\u001b[0m\u001b[0;34m\u001b[0m\u001b[0m\n\u001b[0m\u001b[1;32m    113\u001b[0m         \u001b[0;32mif\u001b[0m \u001b[0;32mnot\u001b[0m \u001b[0mbattle\u001b[0m\u001b[0;34m(\u001b[0m\u001b[0mplayer\u001b[0m\u001b[0;34m,\u001b[0m \u001b[0mmonster\u001b[0m\u001b[0;34m)\u001b[0m\u001b[0;34m:\u001b[0m\u001b[0;34m\u001b[0m\u001b[0;34m\u001b[0m\u001b[0m\n\u001b[1;32m    114\u001b[0m             \u001b[0mprint\u001b[0m\u001b[0;34m(\u001b[0m\u001b[0;34m\"플레이어가 사망했습니다. 게임이 종료됩니다.\"\u001b[0m\u001b[0;34m)\u001b[0m\u001b[0;34m\u001b[0m\u001b[0;34m\u001b[0m\u001b[0m\n",
            "\u001b[0;31mTypeError\u001b[0m: Monster.__init__() takes 2 positional arguments but 3 were given"
          ]
        }
      ],
      "source": [
        "import random as r\n",
        "\n",
        "class Character:\n",
        "    def __init__(self, name: str, lv: int, hp: int, atk: int, defense: int):\n",
        "        '''\n",
        "        캐릭터 인스턴스 기본 속성\n",
        "        '''\n",
        "        self.name = name\n",
        "        self.lv = lv\n",
        "        self.hp = hp\n",
        "        self.atk = atk\n",
        "        self.defense = defense\n",
        "\n",
        "    def is_alive(self):\n",
        "        \"\"\"\n",
        "        캐릭터 현재 상태 체크 hp > 0\n",
        "        \"\"\"\n",
        "        return self.hp > 0\n",
        "\n",
        "    def take_damage(self, damage: int):\n",
        "        \"\"\"\n",
        "        공격당했을 때, hp -= (damage - defense).\n",
        "        If defense > damage, hp = hp.\n",
        "        \"\"\"\n",
        "        damage_taken = max(0, damage - self.defense) # 데미지가 음수가 되는 것을 방지\n",
        "        self.hp -= damage_taken\n",
        "        self.hp = max(0, self.hp)  # hp가 0 밑으로 떨어지지 않게 방지\n",
        "        print(f\"{self.name} 가 {damage_taken} 의 피해를 입었다. 남은 HP: {self.hp}\")\n",
        "\n",
        "    def attack_target(self, target):\n",
        "        \"\"\"\n",
        "        공격\n",
        "        \"\"\"\n",
        "        damage = r.randint(1, self.atk) # 1과 공격력 사이 랜덤 정수만큼 피해\n",
        "        print(f\"{self.name} 가 {target.name} 를 {damage} 만큼 공격했다!\")\n",
        "        target.take_damage(damage) # take_damage 메서드에 damage 인수 전달\n",
        "\n",
        "\n",
        "class Player(Character):\n",
        "    def __init__(self, name):\n",
        "        \"\"\"\n",
        "        플레이어 기본 속성\n",
        "        \"\"\"\n",
        "        super().__init__(name, lv=1, hp=100, atk=25, defense=5) #Character에서 상속\n",
        "        self.exp = 0\n",
        "\n",
        "    def gain_experience(self, amount):\n",
        "        \"\"\"\n",
        "        경험치 획득\n",
        "        \"\"\"\n",
        "        self.exp += amount\n",
        "        print(f\"{self.name} 의 경험치가 {amount} 만큼 올랐다! 현재 EXP: {self.exp}\")\n",
        "\n",
        "    def level_up(self):\n",
        "        \"\"\"\n",
        "        레벨업 조건: exp >= 50.\n",
        "        \"\"\"\n",
        "        if self.exp >= 50:\n",
        "            self.lv += 1\n",
        "            self.exp -= 50\n",
        "            self.atk += 10\n",
        "            self.defense += 5\n",
        "            self.hp += 20\n",
        "            print(f\"{self.name} 레벨업! 레벨: {self.lv}, 공격력: {self.atk}, 방어력: {self.defense}, 체력: {self.hp}\")\n",
        "\n",
        "\n",
        "class Monster(Character):\n",
        "    def __init__(self,):\n",
        "        \"\"\"\n",
        "        레벨에 비례한 몬스터 속성값 부여.\n",
        "        \"\"\"\n",
        "        hp = r.randint(10, 30) * self.lv\n",
        "        atk = r.randint(5, 20) * self.lv\n",
        "        defense = r.randint(1, 5) * self.lv\n",
        "        super().__init__(name, self.lv, self.hp, self.atk, self.defense)\n",
        "\n",
        "\n",
        "def battle(player, monster):\n",
        "    \"\"\"\n",
        "    배틀 진행\n",
        "    \"\"\"\n",
        "    print(f\"{monster} 이 나타났다! (Level {monster.lv})\")\n",
        "\n",
        "    while player.is_alive() and monster.is_alive():\n",
        "        player_instance.attack_target(monster)\n",
        "        if monster.is_alive():\n",
        "            monster.attack_target(player)\n",
        "\n",
        "    if player.is_alive():\n",
        "        print(f\"{player.name} defeated {monster.name}!\")\n",
        "        player.gain_experience(monster.lv * 20)\n",
        "        player.level_up()\n",
        "    else:\n",
        "        print(f\"{player.name} 이 {monster.name}에게 패배했다. 게임 오버.\")\n",
        "        return False\n",
        "\n",
        "    return True\n",
        "\n",
        "\n",
        "def main():\n",
        "    \"\"\"\n",
        "    Main function to run the game.\n",
        "    \"\"\"\n",
        "    monster_dict = {'슬라임': 1, '고블린': 2, '오크': 3}\n",
        "\n",
        "    # Create player instance with a hardcoded name (for non-interactive environments)\n",
        "    player_name = input(\"플레이어 이름을 입력하세요: \")\n",
        "    player = Player(player_name)\n",
        "\n",
        "    # Battle with each monster\n",
        "    for monster_name, lv in monster_dict.items():\n",
        "        monster = Monster(monster_name, lv)\n",
        "        if not battle(player, monster):\n",
        "            print(\"플레이어가 사망했습니다. 게임이 종료됩니다.\")\n",
        "            break\n",
        "    else:\n",
        "        print(f\"축하합니다! {player.name}이(가) 모든 몬스터를 물리쳤습니다!\")\n",
        "\n",
        "\n",
        "if __name__ == \"__main__\":\n",
        "    main()\n"
      ]
    }
  ]
}