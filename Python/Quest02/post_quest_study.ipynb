{
  "cells": [
    {
      "cell_type": "markdown",
      "metadata": {
        "id": "view-in-github",
        "colab_type": "text"
      },
      "source": [
        "<a href=\"https://colab.research.google.com/github/blueberrycrumble/AIFFEL_quest_cr/blob/master/Python/Quest02/quest_c2_revised_note.ipynb\" target=\"_parent\"><img src=\"https://colab.research.google.com/assets/colab-badge.svg\" alt=\"Open In Colab\"/></a>"
      ]
    },
    {
      "cell_type": "markdown",
      "source": [
        "# Avengers vocab 만들기\n",
        "\n",
        "####(1) 텍스트 전처리 수행\n",
        "    - 텍스트 파일 불러오기\n",
        "    - 소문자 변환 & 기호 제거\n",
        "        - str.translate(str.mktranslate())\n",
        "        - generator expression + string.punctuation\n",
        "####(2) 빈도수대로 딕셔너리에 저장하기   \n",
        "     - 단어로 분리\n",
        "        - split()\n",
        "     - 빈도수 내림차순 정렬\n",
        "####(3) 인덱스 부여하기\n",
        "     - 정렬 순서대로 정수 인덱스 부여\n",
        "     - 텍스트를 string으로 받는 인풋 상자 제작\n",
        "        - input()\n",
        "     - 입력된 텍스트 단어와 매칭되는 인덱스번호 정수로 return\n",
        "        - enumerate()\n",
        "        - .zip()\n",
        "\n",
        "\n"
      ],
      "metadata": {
        "id": "RgCzt6Ad0fDv"
      },
      "id": "RgCzt6Ad0fDv"
    },
    {
      "cell_type": "code",
      "source": [
        "# 구글드라이브 연동\n",
        "from google.colab import drive\n",
        "drive.mount('/content/drive')"
      ],
      "metadata": {
        "colab": {
          "base_uri": "https://localhost:8080/"
        },
        "id": "54TQr2KQ4MTZ",
        "outputId": "4eddecd1-1983-44f7-f293-8508db69e07a"
      },
      "id": "54TQr2KQ4MTZ",
      "execution_count": 1,
      "outputs": [
        {
          "output_type": "stream",
          "name": "stdout",
          "text": [
            "Mounted at /content/drive\n"
          ]
        }
      ]
    },
    {
      "cell_type": "code",
      "source": [
        "import string\n",
        "from collections import Counter\n"
      ],
      "metadata": {
        "id": "g2_vZIcAhCmg"
      },
      "id": "g2_vZIcAhCmg",
      "execution_count": 2,
      "outputs": []
    },
    {
      "cell_type": "code",
      "source": [
        "def read_file(path: str):\n",
        "    '''\n",
        "    텍스트 원문을 불러오는 함수\n",
        "    '''\n",
        "    with open(path, 'r') as file:\n",
        "         contents = file.read()\n",
        "    return contents\n",
        "\n",
        "#함수이름은 동사로 짓는 것이 좋다. 함수선언문은 함수끼리 위쪽에 잘 보이게 모아두고 호출문은 아래에 정리\n",
        "#텍스트 전처리\n",
        "def chunker(text: str):\n",
        "    cleanup = ''.join(c for c in text if c not in string.punctuation).lower().split()\n",
        "    return cleanup\n",
        "\n",
        "def counter(chunks: list):\n",
        "    '''\n",
        "    This is a docstring!\n",
        "    각 단어의 빈도수를 체크하는 함수\n",
        "    params:\n",
        "    chunks(list): words to be counted\n",
        "\n",
        "    returns:\n",
        "    count of the words in a dictionary\n",
        "    '''\n",
        "    counts = {}\n",
        "    for word in chunks:\n",
        "        if word not in counts:\n",
        "            counts[word] = 0\n",
        "        counts[word] += 1\n",
        "    return counts\n",
        "\n",
        "def indexed_dictionary(text: str):\n",
        "    '''\n",
        "    카운터수를 기준으로 내림차순으로 정렬하고 인덱싱하는 함수\n",
        "    params:\n",
        "    text(str): text in string format\n",
        "\n",
        "    returns:\n",
        "    indexed dictionary\n",
        "    '''\n",
        "    indexed_dict = {}\n",
        "    word_count_dict = counter(chunker(text)) #효율적으로 함수가 동작하도록 안에 넣어주면 변수를 여러번 호출할 필요가 없음\n",
        "    sorted_vocab_list = sorted(word_count_dict,key=lambda word:word_count_dict[word], reverse=True)\n",
        "\n",
        "    for idx,word in enumerate(sorted_vocab_list): #enumerate는 변수 2개를 취하기 때문에 iterable객체 idx, word 두개가 들어간다.\n",
        "        indexed_dict[word]=idx+1\n",
        "\n",
        "    return indexed_dict\n",
        "\n",
        "def text_to_indices(text: str, dictionary: dict):\n",
        "    '''\n",
        "    유저 인풋을 받아서 딕셔너리에 있는 단어와 비교해 인덱스를 출력하는 함수\n",
        "    '''\n",
        "    chunks = chunker(text)\n",
        "    indices_list= []\n",
        "\n",
        "    for word in chunks:\n",
        "      if word in dictionary:\n",
        "          indices_list.append(dictionary[word])\n",
        "      else:\n",
        "          indices_list.append(-1) #예외처리; 단어가 딕셔너리에 없을 경우 -1 출력\n",
        "    return indices_list\n",
        "\n",
        "\n",
        "\n",
        "# indices = [index for index, vocab in enumerate(vocab)]\n",
        "# 공백을 기준으로 단어를 잘라서 인덱스 부여\n",
        "# print(\"입력메시지:\",user_input,indices)\n",
        "# print(\"단어인덱스\", indices)\n",
        "avengers = read_file('/content/drive/MyDrive/Colab Notebooks/Avengers.txt')\n",
        "avengers_dict = indexed_dictionary(avengers)\n"
      ],
      "metadata": {
        "id": "qKIJnzRciijT"
      },
      "id": "qKIJnzRciijT",
      "execution_count": 18,
      "outputs": []
    },
    {
      "cell_type": "code",
      "source": [
        "while True:\n",
        "    user_input = input(\"인덱싱할 텍스트를 입력하세요:\")\n",
        "    if user_input == 'exit':\n",
        "        break\n",
        "    result = text_to_indices(user_input,avengers_dict)\n",
        "    print(result)\n",
        "print(\"byebye pancakes(❁´◡`❁)\")\n",
        ""
      ],
      "metadata": {
        "id": "JGQFKPfOJgRj",
        "colab": {
          "base_uri": "https://localhost:8080/"
        },
        "outputId": "6e6dea1d-c1e2-4a2a-afa5-7383501e4b43"
      },
      "id": "JGQFKPfOJgRj",
      "execution_count": 24,
      "outputs": [
        {
          "output_type": "stream",
          "name": "stdout",
          "text": [
            "인덱싱할 텍스트를 입력하세요:exit\n",
            "byebye pancakes(❁´◡`❁)\n"
          ]
        }
      ]
    }
  ],
  "metadata": {
    "colab": {
      "provenance": [],
      "name": "quest_c2.ipynb",
      "include_colab_link": true
    },
    "language_info": {
      "name": "python"
    },
    "kernelspec": {
      "name": "python3",
      "display_name": "Python 3"
    }
  },
  "nbformat": 4,
  "nbformat_minor": 5
}
