{
  "nbformat": 4,
  "nbformat_minor": 0,
  "metadata": {
    "colab": {
      "provenance": [],
      "include_colab_link": true
    },
    "kernelspec": {
      "name": "python3",
      "display_name": "Python 3"
    },
    "language_info": {
      "name": "python"
    }
  },
  "cells": [
    {
      "cell_type": "markdown",
      "metadata": {
        "id": "view-in-github",
        "colab_type": "text"
      },
      "source": [
        "<a href=\"https://colab.research.google.com/github/blueberrycrumble/AIFFEL_quest_cr/blob/master/Python/Quest02/quest_c_Hye-eun.ipynb\" target=\"_parent\"><img src=\"https://colab.research.google.com/assets/colab-badge.svg\" alt=\"Open In Colab\"/></a>"
      ]
    },
    {
      "cell_type": "code",
      "execution_count": null,
      "metadata": {
        "id": "JnCaTWw-cNG5",
        "colab": {
          "base_uri": "https://localhost:8080/"
        },
        "outputId": "9952a934-5f5b-4b2e-c5f4-46e05756493b"
      },
      "outputs": [
        {
          "output_type": "stream",
          "name": "stdout",
          "text": [
            "[5, 26, 6]\n"
          ]
        }
      ],
      "source": [
        "f = open(\"/content/drive/MyDrive/Colab Notebooks/Avengers.txt\", 'r')\n",
        "data = f.read()\n",
        "\n",
        "#1-1. 모든 문자를 소문자로 변환\n",
        "lower_data = data.lower()\n",
        "\n",
        "#1-2. 모든 기호를 제거한다.\n",
        "t_text = lower_data.replace(\".\\n\", \" \") #나중에 다시 보기\n",
        "t_text = t_text.replace(\"-\", \"\")\n",
        "t_text = t_text.replace(\".\", \"\") #문장 마지막에 있는 마침표는 줄바꿈과 합쳐졌을 수 있음\n",
        "t_text = t_text.replace(\",\", \"\")\n",
        "t_text = t_text.replace(\"?\", \"\")\n",
        "t_text = t_text.replace(\"!\", \"\")\n",
        "t_text = t_text.replace(\"'s\", \" is\")\n",
        "t_text = t_text.replace(\"n't\", \" not\")\n",
        "t_text = t_text.replace(\"'m\", \" am\")\n",
        "t_text = t_text.replace(\"'re\", \" are\")\n",
        "t_text = t_text.replace(\"'ll\", \" will\")\n",
        "t_text = t_text.replace(\"'d\", \" would\")\n",
        "t_text = t_text.replace(\"'ve\", \" have\")\n",
        "\n",
        "\n",
        "#1-3. 단어 단위로 분리한다.\n",
        "temp_list = t_text.split(\" \")\n",
        "\n",
        "\n",
        "#2. 각 단어 별 빈도수를 딕셔너리 형태로 저장한다.\n",
        "t_dict = {} #빈 딕셔너리를 하나 생성한다.\n",
        "for i in range(0,len(temp_list)): #리스트 요소값 확인\n",
        "  if temp_list[i] not in t_dict: #만약, 현재 요소 값이 딕셔너리 안에 없다면\n",
        "    t_dict.update({temp_list[i]:1}) #딕셔너리의 키로 새로 생성하고, 키의 발견 횟수를 1로 저장한다\n",
        "  else:\n",
        "    new_cnt = t_dict[temp_list[i]] + 1\n",
        "    t_dict.update({temp_list[i]:new_cnt}) #새로운 빈도수로 dict 업데이트\n",
        "\n",
        "\n",
        "#3. 딕셔너리를 빈도수순으로 내림차순 정렬하고, 정렬 순서대로 정수 인덱스를 부여한다.\n",
        "t_dict_sorted = sorted(t_dict,key=lambda x:t_dict[x], reverse=True)\n",
        "\n",
        "\n",
        "#4. 텍스트를 input()으로 입력받아서 정수를 return하는 함수를 만든다.\n",
        "text = \"i am a\" # 피어 리뷰용 테스트 텍스트\n",
        "text = input(\"텍스트 입력: \")\n",
        "t_text = text.split(\" \")\n",
        "result = []\n",
        "for t in t_text:\n",
        "  result_rank = t_dict_sorted.index(t)+1\n",
        "  result.append(result_rank)\n",
        "print(result)\n"
      ]
    },
    {
      "cell_type": "code",
      "source": [
        "from google.colab import drive\n",
        "drive.mount('/content/drive')"
      ],
      "metadata": {
        "id": "PHzwHGxbu7xQ",
        "outputId": "cafed7c3-a83d-49d5-fae2-a0ad69454991",
        "colab": {
          "base_uri": "https://localhost:8080/"
        }
      },
      "execution_count": null,
      "outputs": [
        {
          "output_type": "stream",
          "name": "stdout",
          "text": [
            "Mounted at /content/drive\n"
          ]
        }
      ]
    },
    {
      "cell_type": "code",
      "source": [],
      "metadata": {
        "id": "qFMKPN6w8Cqg"
      },
      "execution_count": null,
      "outputs": []
    }
  ]
}