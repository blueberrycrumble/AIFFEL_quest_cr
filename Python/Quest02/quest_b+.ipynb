{
  "nbformat": 4,
  "nbformat_minor": 0,
  "metadata": {
    "colab": {
      "provenance": [],
      "authorship_tag": "ABX9TyNM+t7F3/L8YfkUPgWmu6Ip",
      "include_colab_link": true
    },
    "kernelspec": {
      "name": "python3",
      "display_name": "Python 3"
    },
    "language_info": {
      "name": "python"
    }
  },
  "cells": [
    {
      "cell_type": "markdown",
      "metadata": {
        "id": "view-in-github",
        "colab_type": "text"
      },
      "source": [
        "<a href=\"https://colab.research.google.com/github/blueberrycrumble/AIFFEL_quest_cr/blob/master/Python/Quest02/quest_b%2B.ipynb\" target=\"_parent\"><img src=\"https://colab.research.google.com/assets/colab-badge.svg\" alt=\"Open In Colab\"/></a>"
      ]
    },
    {
      "cell_type": "markdown",
      "source": [
        "## preprocessing 함수 제작\n",
        "\n",
        "1. 특수 기호는 모두 지우고 알파벳과 숫자만 남기기\n",
        "2. 모두 소문자로 바꾸기\n",
        "3. 중복된 공백 제거하고 공백을 하나만 남기기"
      ],
      "metadata": {
        "id": "BaZZ-F8bEXAp"
      }
    },
    {
      "cell_type": "code",
      "source": [
        "#preprocessing 함수\n",
        "# message1을 인풋으로 받기\n",
        "# 특수 기호는 어떻게 구별할 것인지?\n",
        "# str과 int가 아니면 지우기\n",
        "# str 이라면 lower()로 소문자로 바꾸기\n",
        "# set 로 중복 제거하기 ## 중복된 문자가 아니라 공백만 제거하도록\n",
        "\n",
        "#비정제 댓글\n",
        "message1 = \"WOW!! ThIs mOvIe...    was @@aMAZING@@!!     I couldn't BELIEVE how **good** the actors were.  The plot was    so~~ thrilling.\"\n",
        "message2 = \"Worst movie EVER!!!    I can't believe I spent $15 on this...    the acting was horrIBle, and the plot? non-existent!! :(  do NOT recommend.   :(\"\n",
        "\n",
        "#from collections import Counter\n",
        "import re\n",
        "\n",
        "#함수 정의\n",
        "def preprocessing(m):\n",
        "    alphanumeric = ''.join(c for c in m if c.isalnum() or c.isspace())\n",
        "    print(\"특수문자 제거\\n\"+alphanumeric)\n",
        "    lower_case = alphanumeric.lower()\n",
        "    print(\"소문자로 치환\\n\"+lower_case)\n",
        "    clean_up = re.sub(r'\\s+',' ',lower_case)\n",
        "    print(\"이중 공백 제거\\n\"+clean_up)\n",
        "\n",
        "    # 단어 빈도수 계산\n",
        "    # 정리된 문장을 단어로 분리\n",
        "    #words = clean_up.split()\n",
        "    # 각 단어의 빈도 수 계산\n",
        "    #word_count = Counter(words)\n",
        "    # 단어 카운트 결과 출력\n",
        "    #for word, count in clean_up.items:\n",
        "    #    print(f\"'{word}' appears {count} times\")\n",
        "\n",
        "# [리스트컴프리헨션] 대신 (제너레이터)를 사용해서 메모리 소비를 줄임\n",
        "# isalnum() 또는 isspace() 를 message1의 개별 인풋을 필터링하는 데 사용\n",
        "# 개별 문자,숫자,공백만 필터링해서 튜플에 저장\n",
        "# 필터링된 문자는 낱개로 저장되기 때문에 ''.join()을 사용해 문자열 형태로 재결합하여 반환\n",
        "\n",
        "# message1 = set(message1)\n",
        "# 주석처리이유: set으로 묶으면 문자열의 중복까지 제거되어\n",
        "# [x for x in message1]\n",
        "\n",
        "preprocessing(message2)"
      ],
      "metadata": {
        "colab": {
          "base_uri": "https://localhost:8080/"
        },
        "id": "LMEpGyEvFTh5",
        "outputId": "481d5c40-f957-4302-903e-620d17078f5b"
      },
      "execution_count": null,
      "outputs": [
        {
          "output_type": "stream",
          "name": "stdout",
          "text": [
            "특수문자 제거\n",
            "Worst movie EVER    I cant believe I spent 15 on this    the acting was horrIBle and the plot nonexistent   do NOT recommend   \n",
            "소문자로 치환\n",
            "worst movie ever    i cant believe i spent 15 on this    the acting was horrible and the plot nonexistent   do not recommend   \n",
            "이중 공백 제거\n",
            "worst movie ever i cant believe i spent 15 on this the acting was horrible and the plot nonexistent do not recommend \n"
          ]
        }
      ]
    },
    {
      "cell_type": "code",
      "source": [
        "#함수 호출해서 text1 변수에 넣기\n",
        "text1 = preprocessing(message1)\n",
        "text2 = preprocessing(message2)\n",
        "\n",
        "#출력\n",
        "print(text1)\n",
        "print(text2)\n",
        "\n"
      ],
      "metadata": {
        "id": "VMJW0DXtFRBo"
      },
      "execution_count": null,
      "outputs": []
    },
    {
      "cell_type": "code",
      "source": [
        "#[case 1] 실패\n",
        "#스트링 모듈 사용\n",
        "import string\n",
        "#print(string.punctuation)\n",
        "\n",
        "message1.strip(string.punctuation)\n",
        "# .strip(chars)은 문자열 양 끝에 있는 특수문자만 제거하며, 문자열 중간의 특수문자는 제거되지 않는다."
      ],
      "metadata": {
        "colab": {
          "base_uri": "https://localhost:8080/",
          "height": 53
        },
        "id": "m23Aabn3GxRc",
        "outputId": "4542670a-2459-4bb4-cc90-0e86f279ca49"
      },
      "execution_count": null,
      "outputs": [
        {
          "output_type": "execute_result",
          "data": {
            "text/plain": [
              "\"WOW!! ThIs mOvIe...    was @@aMAZING@@!!     I couldn't BELIEVE how **good** the actors were.  The plot was    so~~ thrilling\""
            ],
            "application/vnd.google.colaboratory.intrinsic+json": {
              "type": "string"
            }
          },
          "metadata": {},
          "execution_count": 104
        }
      ]
    },
    {
      "cell_type": "code",
      "source": [
        "#[case 2] 공백 제거 미완\n",
        "#str.translate()와 str.maketrans() 사용\n",
        "\n",
        "import string\n",
        "\n",
        "cleaned_msg = message1.translate(str.maketrans(string.ascii_uppercase,string.ascii_lowercase,string.punctuation))\n",
        "#--특수문자 제거--\n",
        "#str.maketrans(변환할문자들,변환후문자들,삭제할문자들) 문자열 변환 규칙 테이블 생성한다.\n",
        "#str.translate(변환규칙테이블)에 따라 문자열을 변환하거나 삭제한다. ' '은 None 값\n",
        "#string.punctuation 은 제거할 특수문자 목록을 제공한다.\n",
        "#--소문자 변환--(1)\n",
        "#변환규칙테이블의 첫번째, 두번째 인자는 길이가 같아야 함 주의 (한쪽만 비워둘 수 없음)\n",
        "#string.ascii_lowercase 파이썬 스트링 모듈에 정의된 상수 (소문자를 포함하는 문자열)\n",
        "#--소문자 변환--(2)\n",
        "#문자열.translate(str.maketrans(테이블)).lower() 함수 사용\n",
        "print(cleaned_msg)"
      ],
      "metadata": {
        "colab": {
          "base_uri": "https://localhost:8080/"
        },
        "id": "zQFnzI3bMFvc",
        "outputId": "d972b84f-f8a1-45c1-e79c-3f3256365548"
      },
      "execution_count": null,
      "outputs": [
        {
          "output_type": "stream",
          "name": "stdout",
          "text": [
            "wow this movie    was amazing     i couldnt believe how good the actors were  the plot was    so thrilling\n"
          ]
        }
      ]
    },
    {
      "cell_type": "code",
      "source": [
        "#[case 3] 공백 제거 미완\n",
        "#리스트 컴프리핸션 or 제너레이터 표현식\n",
        "\n",
        "import string\n",
        "import re\n",
        "cleaned_msg = ''.join(c for c in message1 if c not in string.punctuation).lower()\n",
        "#--특수문자 제거--\n",
        "# join()함수는 공백을 기준으로 iterable한 객체(리스트,튜플)를 전달 받아 하나의 문자열로 합친다.\n",
        "# 리스트 대신 제너레이터 표현식으로 문자를 하나씩 생성해 메모리를 효율적으로 사용\n",
        "# not in (true/false 반환) 으로 특수문자 컬렉션에 포함되지 않은 문자만 하나씩 선택하는 조건.\n",
        "\n",
        "#--이중공백 제거--(1)\n",
        "# cleaned_msg = cleaned_msg.replace(\"  \",\" \")\n",
        "#--이중공백 제거--(2)\n",
        "clenaed_msg = re.sub(r'\\s+',' ',message1).strip()\n",
        "\n",
        "print(cleaned_msg)\n",
        "\n"
      ],
      "metadata": {
        "colab": {
          "base_uri": "https://localhost:8080/"
        },
        "id": "2JzUfMMvRE2G",
        "outputId": "6acb88f0-4159-4412-d5c7-4b6d663ed7c1"
      },
      "execution_count": null,
      "outputs": [
        {
          "output_type": "stream",
          "name": "stdout",
          "text": [
            "wow this movie    was amazing     i couldnt believe how good the actors were  the plot was    so thrilling\n"
          ]
        }
      ]
    }
  ]
}