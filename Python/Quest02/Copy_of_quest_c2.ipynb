{
  "cells": [
    {
      "cell_type": "markdown",
      "metadata": {
        "id": "view-in-github",
        "colab_type": "text"
      },
      "source": [
        "<a href=\"https://colab.research.google.com/github/blueberrycrumble/AIFFEL_quest_cr/blob/master/Python/Quest02/Copy_of_quest_c2.ipynb\" target=\"_parent\"><img src=\"https://colab.research.google.com/assets/colab-badge.svg\" alt=\"Open In Colab\"/></a>"
      ]
    },
    {
      "cell_type": "markdown",
      "source": [
        "# Avengers vocab 만들기\n",
        "\n",
        "####(1) 텍스트 전처리 수행\n",
        "    - 텍스트 파일 불러오기\n",
        "    - 소문자 변환 & 기호 제거\n",
        "        - str.translate(str.mktranslate())\n",
        "        - generator expression + string.punctuation\n",
        "####(2) 빈도수대로 딕셔너리에 저장하기   \n",
        "     - 단어로 분리\n",
        "        - split()\n",
        "     - 빈도수 내림차순 정렬\n",
        "####(3) 인덱스 부여하기\n",
        "     - 정렬 순서대로 정수 인덱스 부여\n",
        "     - 텍스트를 string으로 받는 인풋 상자 제작\n",
        "        - input()\n",
        "     - 입력된 텍스트 단어와 매칭되는 인덱스번호 정수로 return\n",
        "        - enumerate()\n",
        "        - .zip()\n",
        "\n",
        "\n"
      ],
      "metadata": {
        "id": "RgCzt6Ad0fDv"
      },
      "id": "RgCzt6Ad0fDv"
    },
    {
      "cell_type": "code",
      "source": [
        "from google.colab import drive\n",
        "drive.mount('/content/drive')"
      ],
      "metadata": {
        "colab": {
          "base_uri": "https://localhost:8080/"
        },
        "id": "54TQr2KQ4MTZ",
        "outputId": "62918267-0d43-474e-d402-c5163f871046"
      },
      "id": "54TQr2KQ4MTZ",
      "execution_count": 2,
      "outputs": [
        {
          "output_type": "stream",
          "name": "stdout",
          "text": [
            "Mounted at /content/drive\n"
          ]
        }
      ]
    },
    {
      "cell_type": "code",
      "source": [
        "import string\n",
        "from collections import Counter\n",
        "\n",
        "with open('/content/drive/MyDrive/Colab Notebooks/Avengers.txt', 'r') as file:\n",
        "    avengers = file.read()\n",
        "\n",
        "temp1 = avengers.lower().split()\n",
        "# print(temp1)\n",
        "temp2 = []\n",
        "for s in temp1:\n",
        "    temp2.append(s.replace(\"'\",\"\").replace('-','').replace('...','').strip(string.punctuation))\n",
        "    #.strip메서드는 문자열 중간에 있는 ...을 지우지 못함\n",
        "\n",
        "# result = ' '.join(temp2)\n",
        "# print(result)\n",
        "\n",
        "temp3 = sorted(Counter(temp2).items(), reverse=True)\n",
        "print(temp3)\n"
      ],
      "metadata": {
        "id": "ywaWN9n566g7",
        "colab": {
          "base_uri": "https://localhost:8080/"
        },
        "outputId": "3ea38ca2-ceb8-4442-935d-0ac2a72663bd"
      },
      "id": "ywaWN9n566g7",
      "execution_count": null,
      "outputs": [
        {
          "output_type": "stream",
          "name": "stdout",
          "text": [
            "[('zoning', 1), ('youve', 13), ('youth', 1), ('yourself', 8), ('yours', 2), ('youre', 35), ('your', 49), ('young', 1), ('youll', 3), ('youd', 3), ('you', 367), ('york', 4), ('yoga', 1), ('yet', 7), ('yesterday', 1), ('yes', 9), ('yep', 1), ('years', 2), ('year', 3), ('yeah', 16), ('xoxoxo', 1), ('wrong', 4), ('write', 1), ('wow', 1), ('wouldnt', 3), ('would', 15), ('worth', 1), ('worse', 3), ('worlds', 6), ('world', 20), ('works', 3), ('workmen', 1), ('working', 6), ('worked', 1), ('work', 14), ('word', 5), ('wont', 6), ('wondering', 2), ('won', 5), ('woman', 1), ('without', 4), ('within', 1), ('with', 33), ('wirelessly', 1), ('wire', 2), ('wiped', 1), ('wipe', 5), ('wind', 2), ('win', 2), ('will', 32), ('wild', 1), ('wield', 2), ('widow', 1), ('wider', 1), ('wide', 1), ('why', 22), ('whos', 5), ('whole', 3), ('who', 16), ('while', 4), ('which', 6), ('wheres', 5), ('whereabouts', 1), ('where', 18), ('when', 17), ('whats', 7), ('whatever', 5), ('what', 77), ('weve', 4), ('werewere', 1), ('were', 40), ('went', 1), ('well', 33), ('weight', 1), ('weep', 1), ('weeks', 1), ('weed', 1), ('weareth', 1), ('weapons', 3), ('weapon', 3), ('weak', 1), ('we', 116), ('ways', 1), ('way', 18), ('water', 3), ('watched', 1), ('wasnt', 3), ('wasi', 1), ('was', 47), ('wars', 1), ('war', 14), ('wants', 12), ('wanted', 2), ('want', 14), ('wanna', 13), ('wandered', 1), ('wallop', 1), ('walk', 1), ('wake', 3), ('waiting', 1), ('waited', 1), ('wait', 4), ('wade', 1), ('vow', 1), ('volatile', 1), ('visitor', 1), ('virtuous', 1), ('violence', 1), ('vintage', 2), ('very', 8), ('version', 1), ('vengeance', 1), ('vehicles', 1), ('variables', 1), ('vanish', 1), ('usual', 1), ('using', 1), ('used', 4), ('use', 5), ('us', 28), ('urgently', 1), ('urgent', 1), ('upstairs', 1), ('upon', 1), ('up', 40), ('until', 11), ('unspoken', 1), ('unparalleled', 1), ('unmade', 1), ('unlocking', 1), ('unlimited', 2), ('unless', 2), ('unleash', 1), ('universe', 2), ('unit', 1), ('uniform', 2), ('unfinished', 1), ('understood', 1), ('understand', 4), ('under', 4), ('unconscious', 1), ('unclear', 1), ('unbreachable', 1), ('unbalanced', 1), ('uhyep', 1), ('uhweve', 1), ('uhshakespeare', 1), ('uhhow', 1), ('uhhis', 1), ('uhassume', 1), ('uhactually', 1), ('uh', 2), ('ugly', 1), ('type', 1), ('two', 5), ('twitchy', 1), ('twenty', 1), ('twelve', 4), ('turns', 2), ('turned', 1), ('turn', 9), ('turbine', 2), ('tunnelling', 1), ('trying', 5), ('try', 7), ('truth', 3), ('trusts', 1), ('trust', 1), ('true', 5), ('truck', 1), ('trouble', 2), ('trip', 1), ('tried', 3), ('trick', 1), ('tray', 1), ('traunsee', 1), ('trapped', 1), ('trap', 2), ('transport', 2), ('transition', 1), ('trample', 1), ('trained', 1), ('trading', 2), ('trade', 1), ('traction', 1), ('tracking', 2), ('track', 2), ('trace', 1), ('toys', 1), ('town', 1), ('towers', 2), ('tower', 4), ('tourist', 1), ('touch', 2), ('tossing', 1), ('tortures', 1), ('top', 2), ('tooth', 1), ('took', 4), ('too', 11), ('tony', 3), ('tonight', 2), ('tomorrow', 3), ('told', 3), ('together', 7), ('today', 2), ('to', 224), ('tiptoeing', 1), ('tiny', 1), ('timebomb', 1), ('time', 15), ('tidings', 1), ('thursday', 1), ('throwing', 1), ('throw', 1), ('through', 4), ('throne', 2), ('three', 4), ('threatening', 2), ('threaten', 3), ('threat', 3), ('thousand', 1), ('thought', 10), ('though', 7), ('those', 5), ('thor', 9), ('this', 97), ('thirty', 2), ('third', 1), ('think', 32), ('things', 10), ('thing', 10), ('theyve', 1), ('theyre', 4), ('theyll', 2), ('theyd', 1), ('they', 37), ('these', 13), ('thermonuclear', 1), ('theres', 13), ('there', 32), ('theother', 1), ('theory', 1), ('then', 18), ('them', 28), ('their', 5), ('the', 365), ('thats', 26), ('that', 123), ('thanks', 4), ('thank', 7), ('than', 9), ('testing', 1), ('test', 3), ('tesseracts', 2), ('tesseract.this', 1), ('tesseract', 32), ('terrible', 1), ('terrestrial', 1), ('term', 1), ('teraflops', 1), ('tension', 1), ('tend', 1), ('ten', 3), ('tells', 1), ('telling', 1), ('tell', 19), ('telephone', 1), ('teeming', 1), ('tech', 1), ('tear', 2), ('team', 7), ('tchalakov', 2), ('target', 4), ('tank', 1), ('tampering', 1), ('talks', 1), ('talk', 6), ('taking', 3), ('takes', 5), ('taken', 1), ('take', 15), ('system', 2), ('swoon', 1), ('swing', 2), ('sweet', 1), ('sweeping', 2), ('sweaty', 1), ('swear', 1), ('swallow', 1), ('sustaining', 2), ('sustainig', 1), ('sustainable', 1), ('suspect', 1), ('survivors', 1), ('surrounding', 1), ('surrounded', 1), ('surprises', 1), ('surprise', 1), ('surge', 1), ('surely', 1), ('sure', 7), ('supposed', 3), ('suppose', 2), ('superhero', 1), ('super', 3), ('sun', 1), ('suiting', 1), ('suite', 1), ('suit', 9), ('suddenly', 2), ('such', 1), ('succeed', 1), ('subway', 1), ('subtle', 2), ('subtitle', 1), ('subs', 1), ('submerged', 1), ('submarine', 1), ('subjugation', 1), ('style', 2), ('stuttgart', 2), ('stupid', 1), ('stuff', 3), ('strut', 1), ('stronger', 1), ('stripes', 1), ('strike', 1), ('stress', 3), ('streets', 4), ('street', 1), ('streak', 1), ('strays', 1), ('strasse', 1), ('stranger', 1), ('strange', 1), ('strand', 1), ('straight', 2), ('storage', 1), ('stops', 2), ('stopping', 1), ('stop', 7), ('still', 10), ('stick', 2), ('steve', 1), ('stephen', 1), ('step', 3), ('steel', 1), ('steam', 1), ('steal', 1), ('steadyi', 1), ('staying', 1), ('stay.soon', 1), ('stay', 10), ('statement', 1), ('state', 1), ('starting', 1), ('started', 3), ('start', 4), ('stars', 1), ('stark,we', 1), ('stark', 33), ('standing', 1), ('stand', 3), ('stalling', 2), ('stabilizing', 1), ('stabilize', 1), ('square', 1), ('squadron', 1), ('spy', 5), ('spry', 1), ('spot', 1), ('spontaneous', 1), ('split', 1), ('spit', 1), ('spinning', 1), ('spin', 1), ('spiking', 1), ('spell', 1), ('speed', 2), ('spectrometers', 2), ('specific', 1), ('specially', 1), ('special', 1), ('spear', 1), ('speaks', 1), ('speak', 3), ('spare', 1), ('spangly', 1), ('space', 5), ('south', 1), ('source', 6), ('sounds', 1), ('sound', 2), ('soul', 1), ('sort', 2), ('sorry', 10), ('sorely', 1), ('soon', 3), ('son', 4), ('somewhere', 1), ('sometimes', 1), ('sometime.top', 1), ('something', 13), ('someone', 3), ('some', 14), ('soldiers', 2), ('soldier', 4), ('soft', 1), ('socket', 1), ('so', 32), ('sneak', 1), ('snafu', 1), ('smells', 1), ('smell', 1), ('smash', 1), ('smart', 2), ('small', 1), ('slowly', 1), ('slowing', 1), ('slower', 1), ('slow', 3), ('slights', 1), ('slight', 1), ('slept', 1), ('sleepy', 1), ('sleeping', 2), ('sleep', 2), ('slaughter', 1), ('sky', 2), ('skull', 1), ('skip', 1), ('skillset', 1), ('skies', 1), ('size', 1), ('sixty', 1), ('six', 2), ('situation', 1), ('sit', 1), ('sir', 25), ('single', 1), ('since', 1), ('simpler', 1), ('silenskin', 1), ('signature', 2), ('signal', 1), ('sign', 2), ('sides', 1), ('shut', 8), ('shrunk', 1), ('shredded', 1), ('shrapnel', 1), ('shown', 1), ('showing', 1), ('showed', 1), ('show', 4), ('shouldnt', 2), ('should', 21), ('shortage', 1), ('ship', 1), ('shields', 2), ('shield', 12), ('shesmisbehaving', 1), ('shes', 2), ('shell', 2), ('she', 4), ('shawarma', 3), ('sharpest', 1), ('share', 1), ('shall', 2), ('shaken', 1), ('shadows', 1), ('shade', 1), ('seventy', 1), ('seven', 2), ('settle', 1), ('set', 4), ('service', 1), ('serum', 1), ('serious', 1), ('separate', 2), ('sentimentality', 1), ('sentiment', 3), ('sent', 3), ('send', 3), ('selvigs', 2), ('selvig', 8), ('self', 4), ('seen', 7), ('seems', 4), ('seemed', 1), ('seeing', 4), ('see', 15), ('security', 3), ('secure', 1), ('secrets', 2), ('secret', 6), ('seconds', 1), ('second', 1), ('sec', 1), ('screams', 1), ('scratch', 1), ('scrapped', 1), ('scramble', 2), ('schemes', 1), ('scepter', 4), ('scent', 1), ('scattered', 1), ('scared', 1), ('scare', 1), ('scaly', 1), ('says', 4), ('saying', 2), ('say', 11), ('saw', 2), ('saving', 1), ('saved', 2), ('save', 5), ('satellite', 1), ('sao', 1), ('same', 3), ('said', 2), ('safety', 2), ('safe', 2), ('sacrifice', 1), ('russian', 1), ('running', 3), ('run', 5), ('ruling', 1), ('ruled', 1), ('rule', 3), ('rounds', 1), ('rough', 1), ('rotors', 3), ('room', 3), ('roof', 3), ('romanoff.i', 1), ('romanoff', 8), ('role', 1), ('rogers', 3), ('roger', 2), ('rock', 1), ('riskier', 1), ('risk', 1), ('ring.were', 1), ('rightful', 1), ('right', 25), ('ride', 2), ('reverse', 1), ('return', 1), ('retro', 1), ('restless', 2), ('rest', 5), ('responsible', 2), ('response', 2), ('research', 1), ('rescue', 1), ('reroute', 1), ('repulsive', 1), ('reports', 1), ('report', 1), ('replicate', 1), ('repeat', 1), ('repair', 1), ('renting', 1), ('removing', 1), ('removed', 1), ('remote', 1), ('reminded', 1), ('remind', 1), ('remember', 7), ('remarkable', 1), ('relays', 2), ('relationship', 1), ('related', 1), ('reindeer', 1), ('regular', 1), ('regimes', 1), ('reflection', 2), ('reference', 1), ('reengage', 1), ('red', 5), ('recompense', 1), ('recognize', 1), ('recognition', 1), ('recently', 1), ('receive', 1), ('recalibration', 2), ('reason', 1), ('realms', 1), ('realm', 1), ('really', 12), ('real', 2), ('ready', 5), ('readings', 1), ('reading', 1), ('read', 3), ('reactors', 1), ('reactor', 2), ('reaches', 1), ('reached', 1), ('reach', 1), ('rays', 1), ('raw', 2), ('rate', 1), ('ranugal', 2), ('raised', 1), ('rage', 2), ('radius', 1), ('radiation', 4), ('radar', 1), ('race', 1), ('rabbited', 1), ('r', 1), ('quite', 1), ('quin', 1), ('question', 3), ('quarrel', 2), ('quantum', 1), ('qualify', 1), ('put', 24), ('push', 3), ('purpose', 2), ('pure', 1), ('puny', 1), ('pull', 5), ('public', 1), ('prove', 1), ('proud', 1), ('prototype', 2), ('protocols', 1), ('protocol,1', 1), ('protection', 1), ('protect', 2), ('promise', 2), ('project', 1), ('programme', 1), ('profiles', 1), ('process', 1), ('proceed', 1), ('problem', 2), ('probably', 1), ('privilege', 1), ('private', 2), ('prisoner', 1), ('prise', 1), ('priority', 1), ('price', 1), ('previews', 1), ('pretty', 7), ('pretending', 1), ('pretend', 2), ('pressurized', 1), ('press', 1), ('present', 1), ('prepared', 3), ('precious', 1), ('precedence', 1), ('prayer', 1), ('powers', 1), ('powered', 2), ('power', 16), ('potts', 3), ('potential', 2), ('posted', 1), ('post', 1), ('possible', 2), ('position', 1), ('portland', 1), ('portal', 9), ('population', 1), ('polarity', 1), ('poisonous', 1), ('pointy', 1), ('point', 8), ('plug', 1), ('pleasure', 1), ('please', 9), ('playing', 2), ('played', 1), ('playboy', 1), ('play', 8), ('plastered', 1), ('plans', 1), ('planning', 2), ('planet', 7), ('plane', 1), ('plan', 6), ('places', 1), ('place', 6), ('pissed', 1), ('piss', 1), ('pilates', 1), ('pigeons', 1), ('piece', 2), ('picked', 1), ('phones', 1), ('phone', 1), ('phils', 1), ('philanthropist', 1), ('phil', 6), ('phase', 7), ('pharaohs', 1), ('petty', 1), ('persuade', 1), ('personality', 1), ('personal', 2), ('person', 3), ('perimeter', 4), ('performance', 1), ('percentages', 1), ('percent', 6), ('pepper', 1), ('people', 19), ('penetrate', 1), ('peak', 1), ('peace', 4), ('pay', 1), ('paulo', 1), ('patterns', 1), ('pathetic', 1), ('path', 1), ('patch', 1), ('past', 1), ('party', 3), ('parties', 1), ('particular', 1), ('part', 2), ('park', 2), ('parentage', 1), ('parades', 1), ('papers', 1), ('panels', 2), ('panel', 1), ('pain', 4), ('paid', 2), ('packs', 1), ('packet', 1), ('packed', 1), ('package', 2), ('own', 1), ('owe', 1), ('overwritten', 1), ('overwrite', 1), ('overly', 1), ('overload', 1), ('over', 9), ('oven', 1), ('outside', 1), ('outfit', 1), ('outer', 2), ('outdated', 1), ('out', 53), ('ourselves', 1), ('ours', 1), ('our', 20), ('ought', 1), ('ou', 1), ('others', 1), ('other', 12), ('original', 1), ('organization', 1), ('orders', 2), ('ordered', 1), ('order', 2), ('or', 11), ('option', 1), ('operating.sheild', 1), ('opening', 1), ('open', 5), ('ooh', 1), ('only', 14), ('online', 1), ('ones', 1), ('one', 21), ('once', 6), ('on', 96), ('omits', 1), ('older', 1), ('old', 3), ('okay', 8), ('oh', 13), ('officially', 1), ('official', 1), ('offense', 1), ('off', 19), ('of', 125), ('odins', 1), ('odin', 1), ('ocean', 2), ('occupied', 1), ('obsessed', 1), ('observatory', 1), ('o', 1), ('nuts', 1), ('number', 2), ('nuke', 1), ('nude', 1), ('nuclear', 2), ('now', 32), ('notion', 1), ('noticed', 1), ('notice', 2), ('nothing', 7), ('notes', 1), ('not', 87), ('north', 1), ('nor', 1), ('none', 5), ('noise', 1), ('nobody', 2), ('no', 60), ('nine', 1), ('nightmare', 1), ('night', 2), ('nick', 2), ('nicely', 1), ('nice', 3), ('next', 6), ('news', 1), ('new', 6), ('never', 10), ('neutral', 1), ('network', 1), ('nest', 1), ('nerve', 1), ('neither', 1), ('needs', 6), ('needing', 1), ('needed', 3), ('need', 42), ('neck', 1), ('near', 1), ('navigation', 1), ('nature', 1), ('natural', 1), ('national', 1), ('natasha', 6), ('nat', 2), ('nasa', 1), ('narrow', 1), ('names', 1), ('name', 5), ('n', 1), ('myself', 1), ('my', 42), ('muster', 1), ('must', 2), ('muss', 1), ('much', 9), ('mr', 4), ('moving', 2), ('moved', 3), ('move', 4), ('mouth', 1), ('mourn', 1), ('mountain', 1), ('motion', 1), ('mother', 1), ('mostly', 1), ('moron', 1), ('moreme', 1), ('more', 11), ('moon', 1), ('mood', 1), ('monument', 1), ('monsters', 1), ('monster', 4), ('monkeys', 2), ('moment', 3), ('mom', 1), ('modifications', 1), ('models', 1), ('model', 2), ('mixture', 1), ('mistakes', 1), ('mission', 1), ('missing', 1), ('missile', 1), ('missed', 2), ('miss', 5), ('misbehaving', 1), ('minutes', 3), ('minute', 3), ('mint', 1), ('minimum', 1), ('mine', 1), ('mindless', 1), ('mind', 3), ('million', 1), ('mileage', 1), ('mile', 1), ('mightiest', 1), ('might', 9), ('middle', 1), ('mewling', 1), ('meteorites', 1), ('metal', 2), ('met', 2), ('messier', 1), ('message', 1), ('mess', 1), ('men', 8), ('mellow', 1), ('meet', 3), ('medium', 1), ('medical', 1), ('mechanics', 1), ('meant', 1), ('means', 6), ('mean', 15), ('meagre', 1), ('me', 80), ('maybe', 7), ('may', 8), ('matter', 2), ('materials', 1), ('material', 1), ('matched', 1), ('match', 3), ('master', 1), ('mass', 2), ('marvelous', 1), ('married', 1), ('mark', 1), ('marching', 1), ('many', 5), ('mankind', 2), ('manipulating', 1), ('manhattan', 1), ('management', 1), ('managed', 1), ('man', 17), ('mam', 1), ('makes', 3), ('make', 12), ('major', 1), ('mainframe', 1), ('magical', 1), ('magic', 1), ('magazine', 1), ('mag', 1), ('madness', 1), ('made', 13), ('mad', 1), ('maam', 1), ('m.o', 1), ('lying', 2), ('lure', 1), ('lucky', 1), ('lower', 1), ('low', 3), ('loves', 1), ('love', 7), ('lot', 10), ('lost', 7), ('losing', 2), ('lose', 4), ('loose', 1), ('looks', 1), ('looking', 3), ('look', 9), ('longer', 1), ('long', 8), ('lokis', 12), ('loki', 34), ('locked', 2), ('location', 4), ('locating', 1), ('located', 1), ('lobby', 1), ('load', 1), ('living', 3), ('lives', 1), ('live', 1), ('littleold', 1), ('little', 12), ('literally', 1), ('listening', 1), ('listen', 4), ('list', 2), ('lines', 1), ('line', 5), ('like', 37), ('lightning', 2), ('light', 4), ('lifting', 1), ('lifted', 1), ('lift', 1), ('lifes', 2), ('life', 6), ('lie', 2), ('lid', 1), ('liars', 1), ('lever', 3), ('levels', 3), ('levelled', 1), ('level', 4), ('letting', 1), ('lets', 10), ('let', 9), ('less', 1), ('lermentoville', 1), ('lermentovia', 1), ('lengthy', 1), ('legoolas', 1), ('legends', 1), ('legend', 2), ('left', 4), ('ledger', 3), ('leaving', 2), ('leave', 6), ('least', 1), ('lease', 1), ('learned', 2), ('learn', 1), ('league', 1), ('leading', 1), ('lead', 4), ('lay', 2), ('later', 1), ('late', 3), ('last', 5), ('laptops', 1), ('land', 1), ('lack', 1), ('laboratory', 2), ('lab', 3), ('knows', 8), ('known', 2), ('knowledge', 2), ('know', 59), ('kneel', 4), ('kit', 1), ('kissed', 1), ('king', 6), ('kind', 8), ('kilometer', 1), ('kills', 1), ('killing', 1), ('killers', 1), ('killed', 2), ('kill', 6), ('kids', 1), ('kidding', 1), ('kick', 1), ('key', 2), ('kept', 3), ('kelvin', 1), ('keep', 10), ('justice', 1), ('just', 36), ('jump', 2), ('joy', 1), ('jonah', 1), ('joke', 1), ('joint', 1), ('join', 1), ('job', 4), ('jets', 1), ('jet', 2), ('jazz', 1), ('javani', 1), ('jarvs', 1), ('jarvis', 6), ('jane', 1), ('jacket', 2), ('jab', 1), ('ive', 16), ('itsits', 1), ('itself', 4), ('its', 70), ('itll', 1), ('it.its', 1), ('it', 111), ('issues', 2), ('isolated', 1), ('isnt', 13), ('island', 1), ('is', 124), ('iron', 1), ('iridium', 3), ('ion', 1), ('involved', 1), ('invite', 1), ('into', 11), ('intimately', 1), ('interrogation', 1), ('interference', 1), ('interested', 1), ('intends', 1), ('intelligence', 3), ('intact', 2), ('insisting', 1), ('inside', 2), ('input', 1), ('initiative', 3), ('information', 1), ('incoming', 1), ('incident', 1), ('in', 96), ('impressive', 1), ('impossible', 1), ('impenetrable', 1), ('immortal', 1), ('imagined', 1), ('im', 51), ('ill', 13), ('ii', 1), ('ignore', 1), ('if', 39), ('idiot', 1), ('identity', 1), ('ideally', 1), ('idea', 4), ('id', 11), ('ice', 3), ('i.m.s', 1), ('i', 249), ('hydras', 1), ('hydra', 1), ('hurt', 2), ('hundred', 3), ('humans', 4), ('humanity', 2), ('human', 3), ('hulk', 8), ('huge', 4), ('howard', 1), ('how', 33), ('hours', 2), ('hour', 2), ('hostile', 3), ('hospital', 1), ('horrors', 1), ('horrible', 1), ('hoping', 1), ('hopelessly', 1), ('hope', 3), ('honor', 2), ('homework', 2), ('homer', 1), ('home', 2), ('holding', 1), ('hold', 8), ('hit', 7), ('historically', 1), ('his', 33), ('him', 30), ('hill', 3), ('hilariously', 1), ('higher', 2), ('high', 1), ('hiding', 2), ('hide', 1), ('hi', 1), ('hey', 2), ('hes', 32), ('heroic', 1), ('heroes', 4), ('hero', 3), ('here', 38), ('her', 3), ('helping', 1), ('helped', 1), ('help', 2), ('hell', 6), ('held', 1), ('heavy', 3), ('heat', 2), ('heart', 3), ('heard', 2), ('hear', 3), ('heads', 1), ('heading', 1), ('headed', 2), ('head', 2), ('he', 78), ('hawking', 1), ('hawkeye', 1), ('hawk', 1), ('having', 3), ('havent', 1), ('have', 64), ('hasnt', 2), ('has', 19), ('harnessing', 1), ('harness', 1), ('harmful', 2), ('harlem', 1), ('hard', 5), ('happens', 2), ('happening', 2), ('happened', 2), ('handsome', 1), ('hands', 3), ('handle', 2), ('handful', 1), ('handed', 2), ('hand.we', 1), ('hand', 2), ('hammer', 3), ('half', 2), ('hai', 1), ('had', 9), ('ha', 1), ('guys', 12), ('guy', 14), ('gushing', 1), ('guns', 2), ('gunned', 1), ('guess', 2), ('guardian', 1), ('guard', 1), ('grudge', 1), ('grrr', 1), ('grows', 1), ('grown', 1), ('grow', 2), ('group', 2), ('ground', 1), ('grid', 1), ('grenade', 1), ('green', 2), ('greed', 1), ('greatness', 1), ('greatest', 1), ('great', 3), ('gotten', 1), ('gotta', 12), ('goti', 1), ('got', 39), ('good', 14), ('gonna', 31), ('gone', 4), ('going', 7), ('goes', 2), ('gods', 1), ('god', 7), ('go', 15), ('glorious', 3), ('global', 1), ('glass', 1), ('glad', 2), ('giving', 2), ('gives', 1), ('given', 1), ('give', 9), ('gettin', 1), ('gets', 2), ('get', 41), ('germany', 2), ('genuine', 1), ('gentlemen', 2), ('genius', 2), ('general', 2), ('gear', 1), ('gave', 2), ('gathered', 1), ('gammer', 2), ('gamma', 5), ('gaming', 1), ('gallaga', 1), ('futile', 1), ('fuss', 1), ('fusion', 1), ('furys', 2), ('fury', 14), ('funny', 3), ('funky', 1), ('fun', 3), ('fulltail', 1), ('full', 3), ('front', 2), ('from', 27), ('friends', 1), ('friendly', 1), ('friend', 2), ('frees', 1), ('freedom', 3), ('free', 4), ('freaks', 1), ('freak', 1), ('foxing', 1), ('four', 2), ('found', 2), ('fought', 1), ('foster', 1), ('fortyminute', 1), ('fortune', 1), ('fortress', 1), ('formula', 1), ('forms', 1), ('formidable', 1), ('form', 3), ('forces', 1), ('forced', 1), ('force', 6), ('for', 72), ('footage', 1), ('fond', 1), ('follows', 1), ('following', 1), ('followed', 1), ('follow', 2), ('focusing', 2), ('focused', 3), ('focus', 1), ('flying', 1), ('fly', 1), ('flush', 1), ('flowers', 1), ('floors', 1), ('floor', 1), ('floating', 1), ('five', 1), ('fit', 1), ('fished', 1), ('first', 6), ('firefight', 1), ('fire', 2), ('finishes', 1), ('finished', 2), ('finish', 1), ('fine', 1), ('finding', 1), ('find', 12), ('finally', 1), ('filling', 1), ('fill', 1), ('files', 1), ('file', 1), ('figured', 2), ('fighting', 2), ('fight', 6), ('fifteen', 1), ('fife', 1), ('field', 1), ('few', 3), ('fellow', 1), ('fella', 2), ('fell', 2), ('feet', 2), ('feelings', 1), ('feel', 4), ('fee', 1), ('fears', 1), ('fear', 2), ('fault', 1), ('father', 4), ('fate', 1), ('faster', 1), ('fashioned', 3), ('far', 6), ('fantastic', 1), ('fan', 1), ('famous', 1), ('familiar', 1), ('falls', 1), ('fall', 4), ('failure', 1), ('fail', 1), ('factory/b', 1), ('facing', 1), ('face', 3), ('f22', 1), ('eyes', 5), ('eyelashes', 1), ('eyeball', 1), ('eye', 3), ('extremely', 1), ('extraordinary', 1), ('extraction', 1), ('extra', 1), ('exposure', 1), ('exposed', 1), ('exports', 1), ('expert', 1), ('experiment', 1), ('expanded', 1), ('exile', 1), ('exhausting', 1), ('excuse', 1), ('excellent', 1), ('example', 1), ('exactly', 4), ('evolved', 1), ('everything', 16), ('everyone', 4), ('everyday', 1), ('everybody', 1), ('every', 11), ('ever', 7), ('even', 10), ('evacuation', 1), ('evac', 2), ('ets', 1), ('escorts', 1), ('escort', 1), ('escape', 1), ('erskines', 1), ('erik', 3), ('equipment', 1), ('equation', 1), ('environment', 2), ('enough', 6), ('enormous', 1), ('enjoy', 2), ('english', 2), ('engines', 2), ('engine', 10), ('engaged', 2), ('engage', 1), ('energythe', 1), ('energy', 13), ('enemy', 1), ('enemies', 2), ('ends', 1), ('ended', 1), ('end', 11), ('emergency', 1), ('else', 4), ('elevator', 2), ('electricity', 1), ('elected', 1), ('elder', 1), ('either', 2), ('eighty', 1), ('eight', 1), ('effect', 2), ('edges', 1), ('edge', 1), ('easy', 2), ('east', 1), ('easily', 2), ('earths', 1), ('earth', 9), ('ears', 1), ('earned', 1), ('each', 1), ('dynamite', 1), ('dull', 1), ('drums', 1), ('droves', 1), ('drop', 4), ('drivethrough', 1), ('drive', 1), ('dripping', 1), ('drink', 3), ('drew', 1), ('dress', 1), ('dream', 1), ('dread', 1), ('draw', 1), ('drapes', 1), ('drakoffs', 1), ('dragged', 1), ('drag', 1), ('dr', 11), ('down', 29), ('doubt', 1), ('doth', 1), ('doorway', 1), ('doors', 2), ('door', 2), ('dont', 43), ('done', 6), ('doll', 1), ('doing', 10), ('doesnt', 6), ('does', 16), ('doctor', 15), ('doc', 1), ('do', 53), ('diva', 1), ('distraction', 1), ('distance', 3), ('dislodging', 1), ('disengage', 1), ('disease', 1), ('disconnected', 1), ('disagreeing', 1), ('disadvantage', 1), ('dirty', 1), ('director', 10), ('directly', 1), ('direct', 1), ('diminishes', 1), ('differently', 1), ('different', 2), ('died', 1), ('didnt', 26), ('did', 38), ('device', 1), ('devastation', 1), ('detonation', 2), ('deterrent', 1), ('detention', 1), ('detail', 1), ('destruction', 2), ('destroyer', 1), ('destroy', 1), ('destiny', 1), ('desperate', 3), ('designed', 1), ('design', 1), ('derived', 1), ('deployment', 1), ('depend', 1), ('density', 1), ('demigod', 1), ('definitely', 1), ('defend', 1), ('defeated', 1), ('deep', 1), ('decryption', 1), ('decoy', 1), ('declared', 1), ('deck', 2), ('decision', 3), ('debt', 1), ('debris', 1), ('debriefing', 1), ('dealing', 2), ('deal', 2), ('dead', 2), ('days', 1), ('day', 1), ('daughter', 1), ('date', 2), ('dark', 2), ('dangerous', 1), ('damned', 1), ('damn', 2), ('dad', 1), ('d.c', 1), ('d', 1), ('cut', 2), ('currently', 1), ('cube', 16), ('cross', 1), ('critical', 1), ('criminal', 1), ('crime', 1), ('crevasse', 1), ('credit', 2), ('creatures', 1), ('creature', 1), ('crazy', 1), ('crawl', 2), ('craves', 1), ('crave', 1), ('covert', 1), ('courted', 1), ('court', 1), ('course', 3), ('couple', 3), ('count', 1), ('councilman', 2), ('council', 3), ('coulsons', 1), ('coulson', 6), ('coulomb', 1), ('couldnt', 3), ('could', 12), ('copy', 5), ('cooperation', 1), ('cooperate', 1), ('cooling', 1), ('conviction', 1), ('controls', 1), ('controlled', 2), ('control', 9), ('containment', 1), ('container', 1), ('contain', 1), ('contacts', 1), ('consulting', 1), ('consultation', 1), ('consult', 1), ('consistent', 1), ('considering', 1), ('conquer', 1), ('connected', 1), ('conjure', 1), ('confused', 1), ('confirmed', 1), ('confident', 1), ('conducting', 1), ('condition', 1), ('concoct', 1), ('computer', 1), ('compromised', 2), ('component', 1), ('complicated', 1), ('complete', 1), ('communications', 2), ('comment', 1), ('command', 1), ('coming', 8), ('comes', 1), ('come', 27), ('collisions', 1), ('collect', 1), ('collapsing', 1), ('collapse', 1), ('cognitive', 1), ('code', 1), ('cluster', 3), ('closer', 1), ('close', 11), ('clockin', 1), ('clock', 2), ('clint', 2), ('climbing', 1), ('clench', 1), ('clearly', 1), ('cleared', 1), ('clear', 4), ('clean', 3), ('claim', 1), ('civilian', 2), ('city', 3), ('circle', 1), ('christmas', 1), ('chitauri', 4), ('chips', 1), ('children', 1), ('childish', 1), ('child', 1), ('chemical', 1), ('chaos', 2), ('changed', 3), ('change', 3), ('chance', 1), ('certain', 2), ('cellist', 1), ('cell', 2), ('celebrating', 2), ('ceiling', 1), ('cause', 3), ('caught', 1), ('cats', 1), ('catastrophe', 1), ('cast', 1), ('case', 2), ('carrying', 1), ('carefully', 1), ('care', 3), ('cards', 2), ('capy', 1), ('captain', 11), ('capsicle', 1), ('capacity', 1), ('cap', 2), ('cant', 20), ('canning', 1), ('candy', 1), ('can', 37), ('campus', 1), ('campaign', 1), ('cameras', 1), ('camera', 1), ('came', 4), ('calms', 1), ('calm', 1), ('calling', 1), ('called', 4), ('call', 12), ('calisthenics', 1), ('calibrate', 1), ('calcutta', 1), ('calculations', 1), ('cage', 2), ('bypass', 1), ('by', 10), ('buzz', 1), ('but', 40), ('busy', 1), ('business', 2), ('bury', 1), ('burns', 1), ('burn', 1), ('burdened', 1), ('bunk', 1), ('bullied', 1), ('bullet', 1), ('built', 4), ('buildings', 2), ('building', 4), ('build', 2), ('bugging', 1), ('buddy', 1), ('budapest', 2), ('bucks', 1), ('buck', 1), ('bsmash/b', 1), ('bsecure', 1), ('bs.h.i.e.l.d', 1), ('brush', 1), ('bruce', 2), ('brought', 2), ('brother', 6), ('broke', 1), ('brings', 1), ('bringing', 1), ('bring', 4), ('bright', 1), ('briefcase', 1), ('brief', 1), ('bridge', 2), ('breathtaking', 1), ('breath', 1), ('breaking', 1), ('break', 4), ('breach', 2), ('brain', 2), ('boy', 2), ('box', 1), ('bout', 1), ('bottleneck', 1), ('bottle', 1), ('both', 1), ('boss', 2), ('born', 1), ('boot', 2), ('boost', 1), ('bongo', 1), ('body', 1), ('boat', 1), ('board', 1), ('blueberry', 1), ('blue', 1), ('blow', 5), ('blood', 1), ('blocks', 2), ('block', 1), ('black', 1), ('bit', 2), ('bird', 1), ('billionaire', 2), ('billboards', 1), ('bilchsteim', 2), ('biggest', 1), ('big', 8), ('bifrost', 1), ('beyond', 3), ('between', 1), ('better', 7), ('betrayed', 1), ('best', 1), ('beneath', 1), ('below', 1), ('belongs', 2), ('believing', 3), ('believe', 3), ('being', 3), ('behind', 1), ('behalf', 1), ('before', 8), ('been', 12), ('become', 4), ('because', 8), ('beautiful', 1), ('beat', 1), ('beast', 2), ('beacon', 1), ('be', 63), ('battling', 1), ('battles', 1), ('battleground', 1), ('battle', 2), ('bat', 1), ('bastards', 1), ('basically', 1), ('basest', 1), ('basement', 1), ('based', 1), ('base', 2), ('bartons', 1), ('barton', 13), ('barter', 1), ('barrier', 2), ('barren', 1), ('bargain', 2), ('banner', 17), ('banne', 1), ('bang', 1), ('balm', 1), ('balance', 1), ('bag', 2), ('bad', 3), ('back', 18), ('baby', 2), ('b', 2), ('awful', 1), ('awearing', 1), ('away', 8), ('awareness', 1), ('awakened', 1), ('awake', 2), ('avoiding', 2), ('avoid', 1), ('avengers', 9), ('avenge', 1), ('avail', 1), ('authorized', 2), ('authorize', 1), ('audience', 1), ('attention.wait', 1), ('attention', 2), ('attack', 3), ('at', 17), ('astrophysics', 1), ('astrophysicist', 1), ('assume', 1), ('assed', 1), ('assassins', 1), ('ass', 1), ('asking', 3), ('asked', 1), ('ask', 3), ('ash', 1), ('asgardian', 2), ('asgard', 8), ('as', 26), ('arsenal', 1), ('arrow', 1), ('around', 8), ('army', 8), ('armor', 4), ('argument', 1), ('argue', 1), ('arent', 4), ('are', 57), ('appear', 1), ('appeal', 1), ('apparently', 1), ('apartment', 1), ('apart', 2), ('anytime', 1), ('anything', 11), ('anyone', 2), ('anymore', 1), ('anybody', 3), ('any', 8), ('antlers', 1), ('antiprotons', 1), ('antielectron', 1), ('ant', 2), ('answering', 1), ('another', 4), ('angry', 2), ('anger', 1), ('and', 117), ('ancient', 1), ('an', 35), ('america', 2), ('ambition', 1), ('am', 12), ('always', 5), ('altitude', 1), ('also', 1), ('alright', 6), ('already', 4), ('along', 2), ('alone', 5), ('ally', 1), ('allies', 1), ('allfather', 1), ('all', 39), ('alive', 2), ('alien', 2), ('algorithm', 1), ('ajust', 1), ('airport', 1), ('air', 2), ('aim', 1), ('ah', 2), ('ago', 1), ('ages', 1), ('agents', 1), ('agent', 17), ('against', 4), ('again', 6), ('after', 7), ('afraid', 3), ('afield', 1), ('advancement', 1), ('advanced', 1), ('adopted', 1), ('actually', 4), ('actress', 1), ('actively', 1), ('active', 1), ('act', 2), ('acquired', 1), ('acme', 1), ('achieve', 1), ('acellist', 1), ('accident', 2), ('accessible', 1), ('access', 2), ('accept', 1), ('accelerator', 1), ('abyss', 1), ('abundance', 1), ('absolutely', 1), ('absence', 1), ('above', 2), ('about', 35), ('aboard', 1), ('able', 1), ('a', 224), ('9', 1), ('7alfa11', 1), ('70', 1), ('7', 1), ('6', 1), ('40', 1), ('39th', 1), ('39', 1), ('3.6', 1), ('28', 1), ('2', 5), ('180', 1), ('13', 1), ('114', 1), ('10c/b', 1), ('', 526)]\n"
          ]
        }
      ]
    },
    {
      "cell_type": "code",
      "source": [
        "import string\n",
        "from collections import Counter\n",
        "\n",
        "with open('/content/drive/MyDrive/Colab Notebooks/Avengers.txt', 'r') as file:\n",
        "    avengers = file.read()\n",
        "\n",
        "    #---텍스트 전처리---\n",
        "    #[리스트컴프리핸션] 대신 (제너레이터)를 사용해 메모리 소비를 줄임\n",
        "    #메서드 체이닝으로 코드 줄 길이 줄임\n",
        "    cleanup = ''.join(c for c in avengers if c not in string.punctuation).lower().split()\n",
        "\n",
        "    #단어나누기\n",
        "    # word = cleanup.split()\n",
        "\n",
        "    #단어 빈도수\n",
        "    # word_count = {}\n",
        "    dic = Counter(cleanup)\n",
        "    print(dic)\n",
        "    #내림차순 정렬\n",
        "    # sorted_word = sorted(word_count.items(),reverse=True)\n",
        "    # 알파벳순으로 키 정렬이 됨\n",
        "    # word_count = {word: word.count(word) for word in word}\n",
        "    # 딕셔너리는 만들었는데 제대로 세지는 않는 듯\n",
        "    # indexed = enumerate(dic)\n",
        "\n",
        "    #딕셔너리 밸류값만 인덱스넘버로 바꿔주려면??\n",
        "    indices = [ key: i for i, (key,_) in enumerate(dic.items())]\n",
        "    print(indices)\n",
        "\n",
        "    # 인풋 메시지를 받으면 단어를 쪼개서 리스트에 넣기 -> 딕셔너리에서 꺼내올 단어 리스트\n",
        "    user_input = input(\"인덱싱할 텍스트를 입력하세요:\")\n",
        "    user_vocab = user_input.split()\n",
        "    print(user_vocab)\n",
        "    # print(indices)\n",
        "    # 인풋 단어 기준으로 딕셔너리 밸류(avengers.txt 에 등장한 단빈도수) 찾기\n",
        "    selected = [dic[i] for i in user_vocab]\n",
        "\n",
        "\n",
        "    print(selected)\n",
        "    # print(dic)\n",
        "    # print(user_input)"
      ],
      "metadata": {
        "colab": {
          "base_uri": "https://localhost:8080/",
          "height": 106
        },
        "id": "aozubd9o9bs9",
        "outputId": "c4e802a9-ee05-4c1f-8cff-b43ecf969763"
      },
      "id": "aozubd9o9bs9",
      "execution_count": 36,
      "outputs": [
        {
          "output_type": "error",
          "ename": "SyntaxError",
          "evalue": "invalid syntax (<ipython-input-36-0b1c55af0c5d>, line 27)",
          "traceback": [
            "\u001b[0;36m  File \u001b[0;32m\"<ipython-input-36-0b1c55af0c5d>\"\u001b[0;36m, line \u001b[0;32m27\u001b[0m\n\u001b[0;31m    indices = [ key: i for i, (key,_) in enumerate(dic.items())]\u001b[0m\n\u001b[0m                   ^\u001b[0m\n\u001b[0;31mSyntaxError\u001b[0m\u001b[0;31m:\u001b[0m invalid syntax\n"
          ]
        }
      ]
    },
    {
      "cell_type": "code",
      "source": [
        "# 여러 위치 참조\n",
        "array = [10, 20, 30, 40, 50]\n",
        "indices = [1, 3]  # 1번과 3번 인덱스\n",
        "selected = [array[i] for i in indices]\n",
        "print(selected)  # [20, 40]\n"
      ],
      "metadata": {
        "id": "4AZRLBpd5tqd"
      },
      "id": "4AZRLBpd5tqd",
      "execution_count": null,
      "outputs": []
    },
    {
      "cell_type": "code",
      "source": [],
      "metadata": {
        "id": "YJfaQVyr7_pk"
      },
      "id": "YJfaQVyr7_pk",
      "execution_count": null,
      "outputs": []
    },
    {
      "cell_type": "code",
      "source": [
        "user_input = input(\"인덱싱할 텍스트를 입력하세요:\")\n",
        "\n",
        "vocab = user_input.split()\n",
        "\n",
        "indices = [index for index, vocab in enumerate(vocab)]\n",
        "# 공백을 기준으로 단어를 잘라서 인덱스 부여\n",
        "print(\"입력메시지:\",user_input,indices)\n",
        "# print(\"단어인덱스\", indices)\n",
        "_"
      ],
      "metadata": {
        "id": "JGQFKPfOJgRj",
        "colab": {
          "base_uri": "https://localhost:8080/",
          "height": 70
        },
        "outputId": "8164a6f9-fa05-438c-8cde-cf0948e3d00c"
      },
      "id": "JGQFKPfOJgRj",
      "execution_count": 18,
      "outputs": [
        {
          "output_type": "stream",
          "name": "stdout",
          "text": [
            "인덱싱할 텍스트를 입력하세요:This is a test message\n",
            "입력메시지: This is a test message [0, 1, 2, 3, 4]\n"
          ]
        },
        {
          "output_type": "execute_result",
          "data": {
            "text/plain": [
              "''"
            ],
            "application/vnd.google.colaboratory.intrinsic+json": {
              "type": "string"
            }
          },
          "metadata": {},
          "execution_count": 18
        }
      ]
    }
  ],
  "metadata": {
    "colab": {
      "provenance": [],
      "include_colab_link": true
    },
    "language_info": {
      "name": "python"
    },
    "kernelspec": {
      "name": "python3",
      "display_name": "Python 3"
    }
  },
  "nbformat": 4,
  "nbformat_minor": 5
}