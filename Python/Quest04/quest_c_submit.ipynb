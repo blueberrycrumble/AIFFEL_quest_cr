{
  "nbformat": 4,
  "nbformat_minor": 0,
  "metadata": {
    "colab": {
      "provenance": [],
      "include_colab_link": true
    },
    "kernelspec": {
      "name": "python3",
      "display_name": "Python 3"
    },
    "language_info": {
      "name": "python"
    }
  },
  "cells": [
    {
      "cell_type": "markdown",
      "metadata": {
        "id": "view-in-github",
        "colab_type": "text"
      },
      "source": [
        "<a href=\"https://colab.research.google.com/github/blueberrycrumble/AIFFEL_quest_cr/blob/master/Python/Quest04/quest_c_submit.ipynb\" target=\"_parent\"><img src=\"https://colab.research.google.com/assets/colab-badge.svg\" alt=\"Open In Colab\"/></a>"
      ]
    },
    {
      "cell_type": "markdown",
      "source": [
        "# 계산기 프로그램 만들기\n",
        "제곱 지원: math 모듈 불러오기\n",
        "\n",
        "입력:\n",
        "- 두 개의 정수\n",
        "- 연산자(+,-,*,/,**)\n",
        "\n",
        "출력:\n",
        "\n",
        "예외처리:\n",
        "1. 입력한 값이 정수가 아닌경우 -> ValueError\n",
        "   - 재입력시도: input(\"잘못된 입력입니다. 정수를 입력해주세요.: \")\n",
        "2. 나눗셈 연산에 제한하여 두번째 정수가 0인 경우 -> ZeroDivisionError\n",
        "   - 오류메시지 출력: print()\n",
        "3. 미지원 연산자 입력시 -> Exception\n",
        "   - 오류메시지 출력: print()\n",
        "4. Finally: 계속 계산할 것인지 물어보고 입력받기\n",
        "   - 조건문 -> Y/N\n",
        "   - Y -> 처음으로 돌아가기 (while)\n",
        "   - N -> 프로그램 종료 (break)\n",
        "\n"
      ],
      "metadata": {
        "id": "rMSqS3XLiWtD"
      }
    },
    {
      "cell_type": "code",
      "execution_count": 49,
      "metadata": {
        "id": "SL4a0fPciKry",
        "colab": {
          "base_uri": "https://localhost:8080/",
          "height": 481
        },
        "outputId": "6f9b94e4-ca64-44e9-8643-b855db59586b"
      },
      "outputs": [
        {
          "output_type": "stream",
          "name": "stdout",
          "text": [
            "정수를 입력하세요.3\n",
            "연산자 + - * / ** 중 1개를 입력하세요.^\n",
            "정수를 입력하세요.3\n",
            "연산자를 다시 선택해 주세요.\n",
            "None\n",
            "계산 끝!\n"
          ]
        },
        {
          "output_type": "error",
          "ename": "KeyboardInterrupt",
          "evalue": "Interrupted by user",
          "traceback": [
            "\u001b[0;31m---------------------------------------------------------------------------\u001b[0m",
            "\u001b[0;31mKeyboardInterrupt\u001b[0m                         Traceback (most recent call last)",
            "\u001b[0;32m<ipython-input-49-438b1ecc9e78>\u001b[0m in \u001b[0;36m<cell line: 3>\u001b[0;34m()\u001b[0m\n\u001b[1;32m     34\u001b[0m     \u001b[0mresult\u001b[0m \u001b[0;34m=\u001b[0m \u001b[0mcalculator\u001b[0m\u001b[0;34m(\u001b[0m\u001b[0mnum1\u001b[0m\u001b[0;34m,\u001b[0m\u001b[0mnum2\u001b[0m\u001b[0;34m)\u001b[0m\u001b[0;34m\u001b[0m\u001b[0;34m\u001b[0m\u001b[0m\n\u001b[1;32m     35\u001b[0m     \u001b[0mprint\u001b[0m\u001b[0;34m(\u001b[0m\u001b[0mresult\u001b[0m\u001b[0;34m)\u001b[0m\u001b[0;34m\u001b[0m\u001b[0;34m\u001b[0m\u001b[0m\n\u001b[0;32m---> 36\u001b[0;31m     \u001b[0mnext\u001b[0m \u001b[0;34m=\u001b[0m \u001b[0minput\u001b[0m\u001b[0;34m(\u001b[0m\u001b[0;34m\"다시 계산하시겠어요? 종료를 원하시면 yes를 입력하세요.\"\u001b[0m\u001b[0;34m)\u001b[0m\u001b[0;34m\u001b[0m\u001b[0;34m\u001b[0m\u001b[0m\n\u001b[0m\u001b[1;32m     37\u001b[0m     \u001b[0;32mif\u001b[0m \u001b[0mnext\u001b[0m \u001b[0;34m==\u001b[0m \u001b[0;34m\"yes\"\u001b[0m\u001b[0;34m:\u001b[0m\u001b[0;34m\u001b[0m\u001b[0;34m\u001b[0m\u001b[0m\n\u001b[1;32m     38\u001b[0m        \u001b[0mprint\u001b[0m\u001b[0;34m(\u001b[0m\u001b[0;34m\"계산기를 종료합니다.\"\u001b[0m\u001b[0;34m)\u001b[0m\u001b[0;34m\u001b[0m\u001b[0;34m\u001b[0m\u001b[0m\n",
            "\u001b[0;32m/usr/local/lib/python3.10/dist-packages/ipykernel/kernelbase.py\u001b[0m in \u001b[0;36mraw_input\u001b[0;34m(self, prompt)\u001b[0m\n\u001b[1;32m    849\u001b[0m                 \u001b[0;34m\"raw_input was called, but this frontend does not support input requests.\"\u001b[0m\u001b[0;34m\u001b[0m\u001b[0;34m\u001b[0m\u001b[0m\n\u001b[1;32m    850\u001b[0m             )\n\u001b[0;32m--> 851\u001b[0;31m         return self._input_request(str(prompt),\n\u001b[0m\u001b[1;32m    852\u001b[0m             \u001b[0mself\u001b[0m\u001b[0;34m.\u001b[0m\u001b[0m_parent_ident\u001b[0m\u001b[0;34m,\u001b[0m\u001b[0;34m\u001b[0m\u001b[0;34m\u001b[0m\u001b[0m\n\u001b[1;32m    853\u001b[0m             \u001b[0mself\u001b[0m\u001b[0;34m.\u001b[0m\u001b[0m_parent_header\u001b[0m\u001b[0;34m,\u001b[0m\u001b[0;34m\u001b[0m\u001b[0;34m\u001b[0m\u001b[0m\n",
            "\u001b[0;32m/usr/local/lib/python3.10/dist-packages/ipykernel/kernelbase.py\u001b[0m in \u001b[0;36m_input_request\u001b[0;34m(self, prompt, ident, parent, password)\u001b[0m\n\u001b[1;32m    893\u001b[0m             \u001b[0;32mexcept\u001b[0m \u001b[0mKeyboardInterrupt\u001b[0m\u001b[0;34m:\u001b[0m\u001b[0;34m\u001b[0m\u001b[0;34m\u001b[0m\u001b[0m\n\u001b[1;32m    894\u001b[0m                 \u001b[0;31m# re-raise KeyboardInterrupt, to truncate traceback\u001b[0m\u001b[0;34m\u001b[0m\u001b[0;34m\u001b[0m\u001b[0m\n\u001b[0;32m--> 895\u001b[0;31m                 \u001b[0;32mraise\u001b[0m \u001b[0mKeyboardInterrupt\u001b[0m\u001b[0;34m(\u001b[0m\u001b[0;34m\"Interrupted by user\"\u001b[0m\u001b[0;34m)\u001b[0m \u001b[0;32mfrom\u001b[0m \u001b[0;32mNone\u001b[0m\u001b[0;34m\u001b[0m\u001b[0;34m\u001b[0m\u001b[0m\n\u001b[0m\u001b[1;32m    896\u001b[0m             \u001b[0;32mexcept\u001b[0m \u001b[0mException\u001b[0m \u001b[0;32mas\u001b[0m \u001b[0me\u001b[0m\u001b[0;34m:\u001b[0m\u001b[0;34m\u001b[0m\u001b[0;34m\u001b[0m\u001b[0m\n\u001b[1;32m    897\u001b[0m                 \u001b[0mself\u001b[0m\u001b[0;34m.\u001b[0m\u001b[0mlog\u001b[0m\u001b[0;34m.\u001b[0m\u001b[0mwarning\u001b[0m\u001b[0;34m(\u001b[0m\u001b[0;34m\"Invalid Message:\"\u001b[0m\u001b[0;34m,\u001b[0m \u001b[0mexc_info\u001b[0m\u001b[0;34m=\u001b[0m\u001b[0;32mTrue\u001b[0m\u001b[0;34m)\u001b[0m\u001b[0;34m\u001b[0m\u001b[0;34m\u001b[0m\u001b[0m\n",
            "\u001b[0;31mKeyboardInterrupt\u001b[0m: Interrupted by user"
          ]
        }
      ],
      "source": [
        "import math as m\n",
        "\n",
        "try:\n",
        "  restart = False\n",
        "  while True:\n",
        "    num1 = int(input(\"정수를 입력하세요.\"))\n",
        "    cal = input(\"연산자 + - * / ** 중 1개를 입력하세요.\")\n",
        "    num2 = int(input(\"정수를 입력하세요.\"))\n",
        "    # punc_list = ['+','-','*','/','**']\n",
        "    msg = print(\"연산자를 다시 선택해 주세요.\")\n",
        "\n",
        "    def calculator(x,y: int):\n",
        "        #x와 y의 계산식을 담은 함수\n",
        "\n",
        "        if cal == punc_list[0]:\n",
        "          # print(f\"더하기 결과는:\")\n",
        "          return x + y\n",
        "        elif cal == punc_list[1]:\n",
        "          # print(f\"빼기 결과는:\")\n",
        "          return x - y\n",
        "        elif cal == punc_list[2]:\n",
        "          # print(f\"곱하기 결과는:\")\n",
        "          return x * y\n",
        "        elif cal == punc_list[3]:\n",
        "          # print(f\"나누기 결과는:\") # 연산자로 인해 실수로 반환됨\n",
        "          return x / y\n",
        "        elif cal == punc_list[4]:\n",
        "          # print(f\"제곱의 결과는:\")\n",
        "          return x ** y\n",
        "        else:\n",
        "          return msg\n",
        "        return\n",
        "\n",
        "    result = calculator(num1,num2)\n",
        "    print(result)\n",
        "    next = input(\"다시 계산하시겠어요? 종료를 원하시면 yes를 입력하세요.\")\n",
        "    if next == \"yes\":\n",
        "       print(\"계산기를 종료합니다.\")\n",
        "       break\n",
        "\n",
        "\n",
        "except ZeroDivisionError:\n",
        "  print(\"0으로는 나눌 수 없습니다.\")\n",
        "\n",
        "except ValueError as e:\n",
        "  print(\"잘못된 입력입니다.정수를 입력해주세요\", e)\n",
        "  # if type(num1,num2) == int:\n",
        "  #    restart = True\n",
        "  # type(num1,num2) != int:\n",
        "  #    restart = False\n",
        "\n",
        "except Exception as e:\n",
        "  print(\"예외가 발생했습니다.\", e)\n",
        "\n",
        "finally:\n",
        "  print(\"계산 끝!\")"
      ]
    },
    {
      "cell_type": "code",
      "source": [],
      "metadata": {
        "id": "epPr15n02_FK"
      },
      "execution_count": null,
      "outputs": []
    }
  ]
}