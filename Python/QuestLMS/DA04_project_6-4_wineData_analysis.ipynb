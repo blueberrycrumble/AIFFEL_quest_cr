{
 "cells": [
  {
   "cell_type": "code",
   "execution_count": 1,
   "id": "e7830594",
   "metadata": {},
   "outputs": [],
   "source": [
    "import sklearn\n",
    "import numpy as np\n",
    "import pandas as pd\n",
    "import matplotlib.pylab as plt"
   ]
  },
  {
   "cell_type": "code",
   "execution_count": 10,
   "id": "978baf97",
   "metadata": {},
   "outputs": [],
   "source": [
    "# import metrics and split tool\n",
    "from sklearn.model_selection import train_test_split, cross_val_score\n",
    "from sklearn.metrics import accuracy_score\n",
    "from sklearn.metrics import classification_report\n",
    "\n",
    "# classifier algorithms\n",
    "from sklearn.tree import DecisionTreeClassifier\n",
    "from sklearn.ensemble import RandomForestClassifier\n",
    "from sklearn.svm import SVC\n",
    "from sklearn.linear_model import SGDClassifier\n",
    "from sklearn.linear_model import LogisticRegression\n",
    "\n",
    "# import datasets\n",
    "from sklearn.datasets import load_digits\n",
    "from sklearn.datasets import load_wine\n",
    "from sklearn.datasets import load_breast_cancer"
   ]
  },
  {
   "cell_type": "code",
   "execution_count": 11,
   "id": "26103924",
   "metadata": {},
   "outputs": [],
   "source": [
    "# dictionary of datasets\n",
    "datasets = {'digits':load_digits(return_X_y=True),\n",
    "            'wine':load_wine(return_X_y=True),\n",
    "            'cancer':load_breast_cancer(return_X_y=True)}"
   ]
  },
  {
   "cell_type": "markdown",
   "id": "9428ab37",
   "metadata": {},
   "source": [
    "# 회고\n",
    "\n",
    "베이스가 된 프로젝트 파일명:'DA04_project_6-4_modelEvaluation_20250123' \n",
    "\n",
    "다음 내용은 load_wine 데이터셋의 feature 분석과정을 포함한다.\n"
   ]
  },
  {
   "cell_type": "code",
   "execution_count": 12,
   "id": "93154465",
   "metadata": {},
   "outputs": [],
   "source": [
    "# load_digits 데이터는 이미지라서 feature 비교에는 부적합한 듯해 스킵함\n",
    "\n",
    "# datasets['digits'][0].shape \n",
    "# # [0] = X, [1] = y \n",
    "# # image is 8x8 "
   ]
  },
  {
   "cell_type": "code",
   "execution_count": 13,
   "id": "48f329ac",
   "metadata": {},
   "outputs": [
    {
     "data": {
      "text/plain": [
       "{'data': array([[1.423e+01, 1.710e+00, 2.430e+00, ..., 1.040e+00, 3.920e+00,\n",
       "         1.065e+03],\n",
       "        [1.320e+01, 1.780e+00, 2.140e+00, ..., 1.050e+00, 3.400e+00,\n",
       "         1.050e+03],\n",
       "        [1.316e+01, 2.360e+00, 2.670e+00, ..., 1.030e+00, 3.170e+00,\n",
       "         1.185e+03],\n",
       "        ...,\n",
       "        [1.327e+01, 4.280e+00, 2.260e+00, ..., 5.900e-01, 1.560e+00,\n",
       "         8.350e+02],\n",
       "        [1.317e+01, 2.590e+00, 2.370e+00, ..., 6.000e-01, 1.620e+00,\n",
       "         8.400e+02],\n",
       "        [1.413e+01, 4.100e+00, 2.740e+00, ..., 6.100e-01, 1.600e+00,\n",
       "         5.600e+02]]),\n",
       " 'target': array([0, 0, 0, 0, 0, 0, 0, 0, 0, 0, 0, 0, 0, 0, 0, 0, 0, 0, 0, 0, 0, 0,\n",
       "        0, 0, 0, 0, 0, 0, 0, 0, 0, 0, 0, 0, 0, 0, 0, 0, 0, 0, 0, 0, 0, 0,\n",
       "        0, 0, 0, 0, 0, 0, 0, 0, 0, 0, 0, 0, 0, 0, 0, 1, 1, 1, 1, 1, 1, 1,\n",
       "        1, 1, 1, 1, 1, 1, 1, 1, 1, 1, 1, 1, 1, 1, 1, 1, 1, 1, 1, 1, 1, 1,\n",
       "        1, 1, 1, 1, 1, 1, 1, 1, 1, 1, 1, 1, 1, 1, 1, 1, 1, 1, 1, 1, 1, 1,\n",
       "        1, 1, 1, 1, 1, 1, 1, 1, 1, 1, 1, 1, 1, 1, 1, 1, 1, 1, 1, 1, 2, 2,\n",
       "        2, 2, 2, 2, 2, 2, 2, 2, 2, 2, 2, 2, 2, 2, 2, 2, 2, 2, 2, 2, 2, 2,\n",
       "        2, 2, 2, 2, 2, 2, 2, 2, 2, 2, 2, 2, 2, 2, 2, 2, 2, 2, 2, 2, 2, 2,\n",
       "        2, 2]),\n",
       " 'frame': None,\n",
       " 'target_names': array(['class_0', 'class_1', 'class_2'], dtype='<U7'),\n",
       " 'DESCR': '.. _wine_dataset:\\n\\nWine recognition dataset\\n------------------------\\n\\n**Data Set Characteristics:**\\n\\n    :Number of Instances: 178 (50 in each of three classes)\\n    :Number of Attributes: 13 numeric, predictive attributes and the class\\n    :Attribute Information:\\n \\t\\t- Alcohol\\n \\t\\t- Malic acid\\n \\t\\t- Ash\\n\\t\\t- Alcalinity of ash  \\n \\t\\t- Magnesium\\n\\t\\t- Total phenols\\n \\t\\t- Flavanoids\\n \\t\\t- Nonflavanoid phenols\\n \\t\\t- Proanthocyanins\\n\\t\\t- Color intensity\\n \\t\\t- Hue\\n \\t\\t- OD280/OD315 of diluted wines\\n \\t\\t- Proline\\n\\n    - class:\\n            - class_0\\n            - class_1\\n            - class_2\\n\\t\\t\\n    :Summary Statistics:\\n    \\n    ============================= ==== ===== ======= =====\\n                                   Min   Max   Mean     SD\\n    ============================= ==== ===== ======= =====\\n    Alcohol:                      11.0  14.8    13.0   0.8\\n    Malic Acid:                   0.74  5.80    2.34  1.12\\n    Ash:                          1.36  3.23    2.36  0.27\\n    Alcalinity of Ash:            10.6  30.0    19.5   3.3\\n    Magnesium:                    70.0 162.0    99.7  14.3\\n    Total Phenols:                0.98  3.88    2.29  0.63\\n    Flavanoids:                   0.34  5.08    2.03  1.00\\n    Nonflavanoid Phenols:         0.13  0.66    0.36  0.12\\n    Proanthocyanins:              0.41  3.58    1.59  0.57\\n    Colour Intensity:              1.3  13.0     5.1   2.3\\n    Hue:                          0.48  1.71    0.96  0.23\\n    OD280/OD315 of diluted wines: 1.27  4.00    2.61  0.71\\n    Proline:                       278  1680     746   315\\n    ============================= ==== ===== ======= =====\\n\\n    :Missing Attribute Values: None\\n    :Class Distribution: class_0 (59), class_1 (71), class_2 (48)\\n    :Creator: R.A. Fisher\\n    :Donor: Michael Marshall (MARSHALL%PLU@io.arc.nasa.gov)\\n    :Date: July, 1988\\n\\nThis is a copy of UCI ML Wine recognition datasets.\\nhttps://archive.ics.uci.edu/ml/machine-learning-databases/wine/wine.data\\n\\nThe data is the results of a chemical analysis of wines grown in the same\\nregion in Italy by three different cultivators. There are thirteen different\\nmeasurements taken for different constituents found in the three types of\\nwine.\\n\\nOriginal Owners: \\n\\nForina, M. et al, PARVUS - \\nAn Extendible Package for Data Exploration, Classification and Correlation. \\nInstitute of Pharmaceutical and Food Analysis and Technologies,\\nVia Brigata Salerno, 16147 Genoa, Italy.\\n\\nCitation:\\n\\nLichman, M. (2013). UCI Machine Learning Repository\\n[https://archive.ics.uci.edu/ml]. Irvine, CA: University of California,\\nSchool of Information and Computer Science. \\n\\n.. topic:: References\\n\\n  (1) S. Aeberhard, D. Coomans and O. de Vel, \\n  Comparison of Classifiers in High Dimensional Settings, \\n  Tech. Rep. no. 92-02, (1992), Dept. of Computer Science and Dept. of  \\n  Mathematics and Statistics, James Cook University of North Queensland. \\n  (Also submitted to Technometrics). \\n\\n  The data was used with many others for comparing various \\n  classifiers. The classes are separable, though only RDA \\n  has achieved 100% correct classification. \\n  (RDA : 100%, QDA 99.4%, LDA 98.9%, 1NN 96.1% (z-transformed data)) \\n  (All results using the leave-one-out technique) \\n\\n  (2) S. Aeberhard, D. Coomans and O. de Vel, \\n  \"THE CLASSIFICATION PERFORMANCE OF RDA\" \\n  Tech. Rep. no. 92-01, (1992), Dept. of Computer Science and Dept. of \\n  Mathematics and Statistics, James Cook University of North Queensland. \\n  (Also submitted to Journal of Chemometrics).\\n',\n",
       " 'feature_names': ['alcohol',\n",
       "  'malic_acid',\n",
       "  'ash',\n",
       "  'alcalinity_of_ash',\n",
       "  'magnesium',\n",
       "  'total_phenols',\n",
       "  'flavanoids',\n",
       "  'nonflavanoid_phenols',\n",
       "  'proanthocyanins',\n",
       "  'color_intensity',\n",
       "  'hue',\n",
       "  'od280/od315_of_diluted_wines',\n",
       "  'proline']}"
      ]
     },
     "execution_count": 13,
     "metadata": {},
     "output_type": "execute_result"
    }
   ],
   "source": [
    "# check the datasets data, target and feature\n",
    "load_wine()"
   ]
  },
  {
   "cell_type": "code",
   "execution_count": 14,
   "id": "db2e8909",
   "metadata": {},
   "outputs": [],
   "source": [
    "wine_data = load_wine()"
   ]
  },
  {
   "cell_type": "code",
   "execution_count": 15,
   "id": "6e9d8e21",
   "metadata": {},
   "outputs": [
    {
     "name": "stdout",
     "output_type": "stream",
     "text": [
      "     alcohol  malic_acid   ash  alcalinity_of_ash  magnesium  total_phenols  \\\n",
      "0      14.23        1.71  2.43               15.6      127.0           2.80   \n",
      "1      13.20        1.78  2.14               11.2      100.0           2.65   \n",
      "2      13.16        2.36  2.67               18.6      101.0           2.80   \n",
      "3      14.37        1.95  2.50               16.8      113.0           3.85   \n",
      "4      13.24        2.59  2.87               21.0      118.0           2.80   \n",
      "..       ...         ...   ...                ...        ...            ...   \n",
      "173    13.71        5.65  2.45               20.5       95.0           1.68   \n",
      "174    13.40        3.91  2.48               23.0      102.0           1.80   \n",
      "175    13.27        4.28  2.26               20.0      120.0           1.59   \n",
      "176    13.17        2.59  2.37               20.0      120.0           1.65   \n",
      "177    14.13        4.10  2.74               24.5       96.0           2.05   \n",
      "\n",
      "     flavanoids  nonflavanoid_phenols  proanthocyanins  color_intensity   hue  \\\n",
      "0          3.06                  0.28             2.29             5.64  1.04   \n",
      "1          2.76                  0.26             1.28             4.38  1.05   \n",
      "2          3.24                  0.30             2.81             5.68  1.03   \n",
      "3          3.49                  0.24             2.18             7.80  0.86   \n",
      "4          2.69                  0.39             1.82             4.32  1.04   \n",
      "..          ...                   ...              ...              ...   ...   \n",
      "173        0.61                  0.52             1.06             7.70  0.64   \n",
      "174        0.75                  0.43             1.41             7.30  0.70   \n",
      "175        0.69                  0.43             1.35            10.20  0.59   \n",
      "176        0.68                  0.53             1.46             9.30  0.60   \n",
      "177        0.76                  0.56             1.35             9.20  0.61   \n",
      "\n",
      "     od280/od315_of_diluted_wines  proline  label  \n",
      "0                            3.92   1065.0      0  \n",
      "1                            3.40   1050.0      0  \n",
      "2                            3.17   1185.0      0  \n",
      "3                            3.45   1480.0      0  \n",
      "4                            2.93    735.0      0  \n",
      "..                            ...      ...    ...  \n",
      "173                          1.74    740.0      2  \n",
      "174                          1.56    750.0      2  \n",
      "175                          1.56    835.0      2  \n",
      "176                          1.62    840.0      2  \n",
      "177                          1.60    560.0      2  \n",
      "\n",
      "[178 rows x 14 columns]\n"
     ]
    }
   ],
   "source": [
    "# switch the data into Data Frame format and added a label column to the table.\n",
    "wine_df = pd.DataFrame(wine_data['data'],columns = wine_data['feature_names'])\n",
    "wine_df['label']= wine_data['target']\n",
    "\n",
    "print(wine_df)"
   ]
  },
  {
   "cell_type": "code",
   "execution_count": 16,
   "id": "d132af1c",
   "metadata": {
    "scrolled": true
   },
   "outputs": [
    {
     "name": "stdout",
     "output_type": "stream",
     "text": [
      "                                        0           1           2\n",
      "alcohol                         13.744746   12.278732   13.153750\n",
      "malic_acid                       2.010678    1.932676    3.333750\n",
      "ash                              2.455593    2.244789    2.437083\n",
      "alcalinity_of_ash               17.037288   20.238028   21.416667\n",
      "magnesium                      106.338983   94.549296   99.312500\n",
      "total_phenols                    2.840169    2.258873    1.678750\n",
      "flavanoids                       2.982373    2.080845    0.781458\n",
      "nonflavanoid_phenols             0.290000    0.363662    0.447500\n",
      "proanthocyanins                  1.899322    1.630282    1.153542\n",
      "color_intensity                  5.528305    3.086620    7.396250\n",
      "hue                              1.062034    1.056282    0.682708\n",
      "od280/od315_of_diluted_wines     3.157797    2.785352    1.683542\n",
      "proline                       1115.711864  519.507042  629.895833\n",
      "label                            0.000000    1.000000    2.000000\n",
      "----------------------------------------------------------------------\n",
      "                                       0           1           2\n",
      "alcohol                         0.462125    0.537964    0.530241\n",
      "malic_acid                      0.688549    1.015569    1.087906\n",
      "ash                             0.227166    0.315467    0.184690\n",
      "alcalinity_of_ash               2.546322    3.349770    2.258161\n",
      "magnesium                      10.498949   16.753497   10.890473\n",
      "total_phenols                   0.338961    0.545361    0.356971\n",
      "flavanoids                      0.397494    0.705701    0.293504\n",
      "nonflavanoid_phenols            0.070049    0.123961    0.124140\n",
      "proanthocyanins                 0.412109    0.602068    0.408836\n",
      "color_intensity                 1.238573    0.924929    2.310942\n",
      "hue                             0.116483    0.202937    0.114441\n",
      "od280/od315_of_diluted_wines    0.357077    0.496573    0.272111\n",
      "proline                       221.520767  157.211220  115.097043\n",
      "label                           0.000000    0.000000    0.000000\n"
     ]
    }
   ],
   "source": [
    "# preparation to get statistic results in dictionary\n",
    "wine_means_stat = {} # avg\n",
    "wine_sigma_stat = {} # std\n",
    "\n",
    "# group the dataset by the values of 'label' column\n",
    "# expected results: 3 groups(0,1,2) \n",
    "# calculate the standard deviation and average of grouped datasets\n",
    "for (label, group) in wine_df.groupby('label'):\n",
    "    wine_sigma_stat[label]=group.std()\n",
    "    wine_means_stat[label]=group.mean()\n",
    "\n",
    "# make it readable    \n",
    "wine_means_df = pd.DataFrame(wine_means_stat)\n",
    "wine_sigma_df = pd.DataFrame(wine_sigma_stat)\n",
    "\n",
    "# see comparisons\n",
    "print(wine_means_df)\n",
    "print('-'*70)\n",
    "print(wine_sigma_df)"
   ]
  },
  {
   "cell_type": "markdown",
   "id": "fea69d6c",
   "metadata": {},
   "source": [
    "# Evaluation\n",
    "Top results: mean\n",
    "Bottom results: standard deviation\n",
    "\n",
    "mean value seems to be interesting:  \n",
    "1. proline 이 눈에 확 띈다. 다른 feature 들에 비해 수치가 높고, 0번 라벨의 값이 특히 높다. \n",
    "2. hue's label 2 has significantly lower value than other labels\n",
    "3. color_intensity 의 각 라벨값이 큰 격차가 없어보이거나 균등하게 차이가 나는 것 같다. \n",
    "\n",
    "우선 3번 라벨에 대한 가정이 맞는지 확인해보기로 한다.\n",
    "무엇을 기준으로 차이가 크다, 작다를 판별할 수 있는지 기준을 찾고자 하는 것이다.\n",
    "\n",
    "표준편차와 평균값의 상관관계를 비교했을 때 2번 라벨의 표준편차가 완만하고 넓게 퍼져 다른 라벨과 겹치지 않을까 생각됨. 그래서 color_intensity 로는 각 라벨 간의 분류 작업이 어려울 것이다. \n",
    "\n",
    "시각화의 도움을 받기로 한다. ↓\n"
   ]
  },
  {
   "cell_type": "code",
   "execution_count": 17,
   "id": "1634a55c",
   "metadata": {},
   "outputs": [
    {
     "data": {
      "text/plain": [
       "<matplotlib.legend.Legend at 0x7a6edfcca730>"
      ]
     },
     "execution_count": 17,
     "metadata": {},
     "output_type": "execute_result"
    },
    {
     "data": {
      "image/png": "[encoded data removed]",
      "text/plain": [
       "<Figure size 864x432 with 1 Axes>"
      ]
     },
     "metadata": {
      "needs_background": "light"
     },
     "output_type": "display_data"
    }
   ],
   "source": [
    "# visualization of label 0\n",
    "fig,ax = plt.subplots(figsize=(12,6))\n",
    "ax.set_title('color_intensity')\n",
    "\n",
    "ax.hist(wine_df[wine_df.label==0]['color_intensity'], bins=10, density=True, alpha=0.6, color='blue',label=0)\n",
    "\n",
    "# visualization of label 1\n",
    "ax.hist(wine_df[wine_df.label==1]['color_intensity'], bins=10, density=True, alpha=0.6, color='red',label=1)\n",
    "\n",
    "# visualization of label 2\n",
    "ax.hist(wine_df[wine_df.label==2]['color_intensity'], bins=10, density=True, alpha=0.6, color='green',label=2)\n",
    "ax.legend()\n"
   ]
  },
  {
   "cell_type": "code",
   "execution_count": 18,
   "id": "51136bda",
   "metadata": {},
   "outputs": [],
   "source": [
    "# 걍 테스트\n",
    "# for plapla in wine_df.groupby('label'):\n",
    "#     print(len(plapla)) \n",
    "\n",
    "# groupby always returns tuples\n",
    "# groupby returns an iterable "
   ]
  },
  {
   "cell_type": "markdown",
   "id": "98e452ff",
   "metadata": {},
   "source": [
    "결론: 예상대로 2번값이 넓게 퍼져 0번클래스(라벨)과 1번클래스와 겹친다. \n",
    "color_intensity 값으로 각 클래스 구분이 어려울 것이 예상되므로 다른 feature를 기준점으로 삼는 것이 좋겠다. \n",
    "\n",
    "예상: 주제로서는 alchol, 수치값 비교로는 proline 이나 magnesium 이 테스트 소재로 유용하지 않을까 관심이 감."
   ]
  }
 ],
 "metadata": {
  "kernelspec": {
   "display_name": "Python 3 (ipykernel)",
   "language": "python",
   "name": "python3"
  },
  "language_info": {
   "codemirror_mode": {
    "name": "ipython",
    "version": 3
   },
   "file_extension": ".py",
   "mimetype": "text/x-python",
   "name": "python",
   "nbconvert_exporter": "python",
   "pygments_lexer": "ipython3",
   "version": "3.9.7"
  }
 },
 "nbformat": 4,
 "nbformat_minor": 5
}
